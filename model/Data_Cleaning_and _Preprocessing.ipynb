{
 "cells": [
  {
   "cell_type": "code",
   "execution_count": 49,
   "metadata": {
    "executionInfo": {
     "elapsed": 2552,
     "status": "ok",
     "timestamp": 1727939231517,
     "user": {
      "displayName": "biplov belbase",
      "userId": "02095037767289247533"
     },
     "user_tz": -345
    },
    "id": "3AysXSDzKgzf"
   },
   "outputs": [],
   "source": [
    "import pandas as pd\n",
    "import numpy as np\n",
    "import re\n",
    "import matplotlib.pyplot as plt\n",
    "from sklearn.preprocessing import OrdinalEncoder"
   ]
  },
  {
   "cell_type": "code",
   "execution_count": 50,
   "metadata": {
    "executionInfo": {
     "elapsed": 464,
     "status": "ok",
     "timestamp": 1727938753149,
     "user": {
      "displayName": "biplov belbase",
      "userId": "02095037767289247533"
     },
     "user_tz": -345
    },
    "id": "_3WNZ4O2K1oI"
   },
   "outputs": [],
   "source": [
    "df=pd.read_csv('2020-4-27.csv')"
   ]
  },
  {
   "cell_type": "code",
   "execution_count": 51,
   "metadata": {
    "colab": {
     "base_uri": "https://localhost:8080/",
     "height": 590
    },
    "executionInfo": {
     "elapsed": 5,
     "status": "ok",
     "timestamp": 1727938754618,
     "user": {
      "displayName": "biplov belbase",
      "userId": "02095037767289247533"
     },
     "user_tz": -345
    },
    "id": "g6JdvjIyLDJ1",
    "outputId": "62e68221-affe-4839-c888-3a6711ac9f10"
   },
   "outputs": [
    {
     "data": {
      "text/html": [
       "<div>\n",
       "<style scoped>\n",
       "    .dataframe tbody tr th:only-of-type {\n",
       "        vertical-align: middle;\n",
       "    }\n",
       "\n",
       "    .dataframe tbody tr th {\n",
       "        vertical-align: top;\n",
       "    }\n",
       "\n",
       "    .dataframe thead th {\n",
       "        text-align: right;\n",
       "    }\n",
       "</style>\n",
       "<table border=\"1\" class=\"dataframe\">\n",
       "  <thead>\n",
       "    <tr style=\"text-align: right;\">\n",
       "      <th></th>\n",
       "      <th>Title</th>\n",
       "      <th>Address</th>\n",
       "      <th>City</th>\n",
       "      <th>Price</th>\n",
       "      <th>Bedroom</th>\n",
       "      <th>Bathroom</th>\n",
       "      <th>Floors</th>\n",
       "      <th>Parking</th>\n",
       "      <th>Face</th>\n",
       "      <th>Year</th>\n",
       "      <th>Views</th>\n",
       "      <th>Area</th>\n",
       "      <th>Road</th>\n",
       "      <th>Road Width</th>\n",
       "      <th>Road Type</th>\n",
       "      <th>Build Area</th>\n",
       "      <th>Posted</th>\n",
       "      <th>Amenities</th>\n",
       "    </tr>\n",
       "  </thead>\n",
       "  <tbody>\n",
       "    <tr>\n",
       "      <th>0</th>\n",
       "      <td>Flat System House On Sale At Budhanikantha : H...</td>\n",
       "      <td>Budhanikantha, Budhanilkantha, Kathmandu</td>\n",
       "      <td>Kathmandu</td>\n",
       "      <td>90000000</td>\n",
       "      <td>6</td>\n",
       "      <td>3</td>\n",
       "      <td>2.0</td>\n",
       "      <td>10</td>\n",
       "      <td>West</td>\n",
       "      <td>2073.0</td>\n",
       "      <td>17</td>\n",
       "      <td>1-0-0-0 Aana</td>\n",
       "      <td>20 Feet / Blacktopped</td>\n",
       "      <td>20 Feet</td>\n",
       "      <td>Blacktopped</td>\n",
       "      <td>18-0-0-0 Aana</td>\n",
       "      <td>11 hours ago</td>\n",
       "      <td>['Parking', 'Lawn', 'Garage', 'Frontyard', 'Fe...</td>\n",
       "    </tr>\n",
       "    <tr>\n",
       "      <th>1</th>\n",
       "      <td>21 Aana Beautiful House : House For Sale In Bu...</td>\n",
       "      <td>Pasikot, Budhanilkantha, Kathmandu</td>\n",
       "      <td>Kathmandu</td>\n",
       "      <td>80000000</td>\n",
       "      <td>5</td>\n",
       "      <td>3</td>\n",
       "      <td>2.0</td>\n",
       "      <td>9</td>\n",
       "      <td>East</td>\n",
       "      <td>2073.0</td>\n",
       "      <td>26</td>\n",
       "      <td>0-21-0-0 Aana</td>\n",
       "      <td>20 Feet / Blacktopped</td>\n",
       "      <td>20 Feet</td>\n",
       "      <td>Blacktopped</td>\n",
       "      <td>0-14-0-0 Aana</td>\n",
       "      <td>12 hours ago</td>\n",
       "      <td>['Parking', 'Garage', 'Fencing', 'Frontyard', ...</td>\n",
       "    </tr>\n",
       "    <tr>\n",
       "      <th>2</th>\n",
       "      <td>Beautiful To Floor House : House For Sale In D...</td>\n",
       "      <td>Dhapasi, Dhapasi, Kathmandu</td>\n",
       "      <td>Kathmandu</td>\n",
       "      <td>70000000</td>\n",
       "      <td>5</td>\n",
       "      <td>3</td>\n",
       "      <td>2.0</td>\n",
       "      <td>12</td>\n",
       "      <td>East</td>\n",
       "      <td>2071.0</td>\n",
       "      <td>154</td>\n",
       "      <td>1-1-0-0 Aana</td>\n",
       "      <td>20 Feet / Blacktopped</td>\n",
       "      <td>20 Feet</td>\n",
       "      <td>Blacktopped</td>\n",
       "      <td>10-1-0-0 Aana</td>\n",
       "      <td>2 days ago</td>\n",
       "      <td>['Parking', 'Lawn', 'Garage', 'Frontyard', 'Fe...</td>\n",
       "    </tr>\n",
       "    <tr>\n",
       "      <th>3</th>\n",
       "      <td>Modern Architecture Bungalow House : House For...</td>\n",
       "      <td>baluwatar, Baluwatar, Kathmandu</td>\n",
       "      <td>Kathmandu</td>\n",
       "      <td>130000000</td>\n",
       "      <td>6</td>\n",
       "      <td>4</td>\n",
       "      <td>3.0</td>\n",
       "      <td>9</td>\n",
       "      <td>West</td>\n",
       "      <td>2017.0</td>\n",
       "      <td>17</td>\n",
       "      <td>0-10-1-0 Aana</td>\n",
       "      <td>20 Feet / Blacktopped</td>\n",
       "      <td>20 Feet</td>\n",
       "      <td>Blacktopped</td>\n",
       "      <td>0-7-1-0 Aana</td>\n",
       "      <td>1 day ago</td>\n",
       "      <td>['Parking', 'Lawn', 'Garage', 'Frontyard', 'Fe...</td>\n",
       "    </tr>\n",
       "    <tr>\n",
       "      <th>4</th>\n",
       "      <td>Modern Bungalow House : House For Sale In Golf...</td>\n",
       "      <td>Golfutar, Golfutar, Kathmandu</td>\n",
       "      <td>Kathmandu</td>\n",
       "      <td>100000000</td>\n",
       "      <td>6</td>\n",
       "      <td>3</td>\n",
       "      <td>2.0</td>\n",
       "      <td>10</td>\n",
       "      <td>East</td>\n",
       "      <td>2070.0</td>\n",
       "      <td>59</td>\n",
       "      <td>0-19-2-0 Aana</td>\n",
       "      <td>20 Feet / Blacktopped</td>\n",
       "      <td>20 Feet</td>\n",
       "      <td>Blacktopped</td>\n",
       "      <td>0-14-2-0 Aana</td>\n",
       "      <td>2 days ago</td>\n",
       "      <td>['Parking', 'Lawn', 'Garage', 'Balcony', 'Back...</td>\n",
       "    </tr>\n",
       "  </tbody>\n",
       "</table>\n",
       "</div>"
      ],
      "text/plain": [
       "                                               Title  \\\n",
       "0  Flat System House On Sale At Budhanikantha : H...   \n",
       "1  21 Aana Beautiful House : House For Sale In Bu...   \n",
       "2  Beautiful To Floor House : House For Sale In D...   \n",
       "3  Modern Architecture Bungalow House : House For...   \n",
       "4  Modern Bungalow House : House For Sale In Golf...   \n",
       "\n",
       "                                    Address       City      Price  Bedroom  \\\n",
       "0  Budhanikantha, Budhanilkantha, Kathmandu  Kathmandu   90000000        6   \n",
       "1        Pasikot, Budhanilkantha, Kathmandu  Kathmandu   80000000        5   \n",
       "2               Dhapasi, Dhapasi, Kathmandu  Kathmandu   70000000        5   \n",
       "3           baluwatar, Baluwatar, Kathmandu  Kathmandu  130000000        6   \n",
       "4             Golfutar, Golfutar, Kathmandu  Kathmandu  100000000        6   \n",
       "\n",
       "   Bathroom  Floors  Parking  Face    Year Views           Area  \\\n",
       "0         3     2.0       10  West  2073.0    17   1-0-0-0 Aana   \n",
       "1         3     2.0        9  East  2073.0    26  0-21-0-0 Aana   \n",
       "2         3     2.0       12  East  2071.0   154   1-1-0-0 Aana   \n",
       "3         4     3.0        9  West  2017.0    17  0-10-1-0 Aana   \n",
       "4         3     2.0       10  East  2070.0    59  0-19-2-0 Aana   \n",
       "\n",
       "                    Road Road Width     Road Type     Build Area  \\\n",
       "0  20 Feet / Blacktopped   20 Feet    Blacktopped  18-0-0-0 Aana   \n",
       "1  20 Feet / Blacktopped   20 Feet    Blacktopped  0-14-0-0 Aana   \n",
       "2  20 Feet / Blacktopped   20 Feet    Blacktopped  10-1-0-0 Aana   \n",
       "3  20 Feet / Blacktopped   20 Feet    Blacktopped   0-7-1-0 Aana   \n",
       "4  20 Feet / Blacktopped   20 Feet    Blacktopped  0-14-2-0 Aana   \n",
       "\n",
       "         Posted                                          Amenities  \n",
       "0  11 hours ago  ['Parking', 'Lawn', 'Garage', 'Frontyard', 'Fe...  \n",
       "1  12 hours ago  ['Parking', 'Garage', 'Fencing', 'Frontyard', ...  \n",
       "2    2 days ago  ['Parking', 'Lawn', 'Garage', 'Frontyard', 'Fe...  \n",
       "3     1 day ago  ['Parking', 'Lawn', 'Garage', 'Frontyard', 'Fe...  \n",
       "4    2 days ago  ['Parking', 'Lawn', 'Garage', 'Balcony', 'Back...  "
      ]
     },
     "execution_count": 51,
     "metadata": {},
     "output_type": "execute_result"
    }
   ],
   "source": [
    "df.head(5)"
   ]
  },
  {
   "cell_type": "code",
   "execution_count": 52,
   "metadata": {
    "colab": {
     "base_uri": "https://localhost:8080/"
    },
    "executionInfo": {
     "elapsed": 468,
     "status": "ok",
     "timestamp": 1727938758115,
     "user": {
      "displayName": "biplov belbase",
      "userId": "02095037767289247533"
     },
     "user_tz": -345
    },
    "id": "FTWajb3dOz4N",
    "outputId": "1ea397f6-7480-4399-dd3a-998f9b69b8ca"
   },
   "outputs": [
    {
     "name": "stdout",
     "output_type": "stream",
     "text": [
      "<class 'pandas.core.frame.DataFrame'>\n",
      "RangeIndex: 2211 entries, 0 to 2210\n",
      "Data columns (total 18 columns):\n",
      " #   Column      Non-Null Count  Dtype  \n",
      "---  ------      --------------  -----  \n",
      " 0   Title       2211 non-null   object \n",
      " 1   Address     2211 non-null   object \n",
      " 2   City        2211 non-null   object \n",
      " 3   Price       2211 non-null   int64  \n",
      " 4   Bedroom     2211 non-null   int64  \n",
      " 5   Bathroom    2211 non-null   int64  \n",
      " 6   Floors      1039 non-null   float64\n",
      " 7   Parking     2211 non-null   int64  \n",
      " 8   Face        2211 non-null   object \n",
      " 9   Year        582 non-null    float64\n",
      " 10  Views       2211 non-null   object \n",
      " 11  Area        2211 non-null   object \n",
      " 12  Road        2211 non-null   object \n",
      " 13  Road Width  2211 non-null   object \n",
      " 14  Road Type   1426 non-null   object \n",
      " 15  Build Area  2211 non-null   object \n",
      " 16  Posted      2211 non-null   object \n",
      " 17  Amenities   2211 non-null   object \n",
      "dtypes: float64(2), int64(4), object(12)\n",
      "memory usage: 311.1+ KB\n"
     ]
    }
   ],
   "source": [
    "df.info()"
   ]
  },
  {
   "cell_type": "code",
   "execution_count": 53,
   "metadata": {
    "executionInfo": {
     "elapsed": 2,
     "status": "ok",
     "timestamp": 1727938760817,
     "user": {
      "displayName": "biplov belbase",
      "userId": "02095037767289247533"
     },
     "user_tz": -345
    },
    "id": "TGkr2ZdjPp0o"
   },
   "outputs": [],
   "source": [
    "df1=df.drop([\"Title\",\"Year\",\"Views\",\"Build Area\",\"Posted\",\"Amenities\"],axis=1)"
   ]
  },
  {
   "cell_type": "code",
   "execution_count": 54,
   "metadata": {
    "colab": {
     "base_uri": "https://localhost:8080/",
     "height": 310
    },
    "executionInfo": {
     "elapsed": 10,
     "status": "ok",
     "timestamp": 1727938762039,
     "user": {
      "displayName": "biplov belbase",
      "userId": "02095037767289247533"
     },
     "user_tz": -345
    },
    "id": "UoIeyGG-RBfV",
    "outputId": "180f013e-bb98-4af6-fce3-43fcaf53a6cb"
   },
   "outputs": [
    {
     "data": {
      "text/html": [
       "<div>\n",
       "<style scoped>\n",
       "    .dataframe tbody tr th:only-of-type {\n",
       "        vertical-align: middle;\n",
       "    }\n",
       "\n",
       "    .dataframe tbody tr th {\n",
       "        vertical-align: top;\n",
       "    }\n",
       "\n",
       "    .dataframe thead th {\n",
       "        text-align: right;\n",
       "    }\n",
       "</style>\n",
       "<table border=\"1\" class=\"dataframe\">\n",
       "  <thead>\n",
       "    <tr style=\"text-align: right;\">\n",
       "      <th></th>\n",
       "      <th>Address</th>\n",
       "      <th>City</th>\n",
       "      <th>Price</th>\n",
       "      <th>Bedroom</th>\n",
       "      <th>Bathroom</th>\n",
       "      <th>Floors</th>\n",
       "      <th>Parking</th>\n",
       "      <th>Face</th>\n",
       "      <th>Area</th>\n",
       "      <th>Road</th>\n",
       "      <th>Road Width</th>\n",
       "      <th>Road Type</th>\n",
       "    </tr>\n",
       "  </thead>\n",
       "  <tbody>\n",
       "    <tr>\n",
       "      <th>0</th>\n",
       "      <td>Budhanikantha, Budhanilkantha, Kathmandu</td>\n",
       "      <td>Kathmandu</td>\n",
       "      <td>90000000</td>\n",
       "      <td>6</td>\n",
       "      <td>3</td>\n",
       "      <td>2.0</td>\n",
       "      <td>10</td>\n",
       "      <td>West</td>\n",
       "      <td>1-0-0-0 Aana</td>\n",
       "      <td>20 Feet / Blacktopped</td>\n",
       "      <td>20 Feet</td>\n",
       "      <td>Blacktopped</td>\n",
       "    </tr>\n",
       "    <tr>\n",
       "      <th>1</th>\n",
       "      <td>Pasikot, Budhanilkantha, Kathmandu</td>\n",
       "      <td>Kathmandu</td>\n",
       "      <td>80000000</td>\n",
       "      <td>5</td>\n",
       "      <td>3</td>\n",
       "      <td>2.0</td>\n",
       "      <td>9</td>\n",
       "      <td>East</td>\n",
       "      <td>0-21-0-0 Aana</td>\n",
       "      <td>20 Feet / Blacktopped</td>\n",
       "      <td>20 Feet</td>\n",
       "      <td>Blacktopped</td>\n",
       "    </tr>\n",
       "    <tr>\n",
       "      <th>2</th>\n",
       "      <td>Dhapasi, Dhapasi, Kathmandu</td>\n",
       "      <td>Kathmandu</td>\n",
       "      <td>70000000</td>\n",
       "      <td>5</td>\n",
       "      <td>3</td>\n",
       "      <td>2.0</td>\n",
       "      <td>12</td>\n",
       "      <td>East</td>\n",
       "      <td>1-1-0-0 Aana</td>\n",
       "      <td>20 Feet / Blacktopped</td>\n",
       "      <td>20 Feet</td>\n",
       "      <td>Blacktopped</td>\n",
       "    </tr>\n",
       "    <tr>\n",
       "      <th>3</th>\n",
       "      <td>baluwatar, Baluwatar, Kathmandu</td>\n",
       "      <td>Kathmandu</td>\n",
       "      <td>130000000</td>\n",
       "      <td>6</td>\n",
       "      <td>4</td>\n",
       "      <td>3.0</td>\n",
       "      <td>9</td>\n",
       "      <td>West</td>\n",
       "      <td>0-10-1-0 Aana</td>\n",
       "      <td>20 Feet / Blacktopped</td>\n",
       "      <td>20 Feet</td>\n",
       "      <td>Blacktopped</td>\n",
       "    </tr>\n",
       "    <tr>\n",
       "      <th>4</th>\n",
       "      <td>Golfutar, Golfutar, Kathmandu</td>\n",
       "      <td>Kathmandu</td>\n",
       "      <td>100000000</td>\n",
       "      <td>6</td>\n",
       "      <td>3</td>\n",
       "      <td>2.0</td>\n",
       "      <td>10</td>\n",
       "      <td>East</td>\n",
       "      <td>0-19-2-0 Aana</td>\n",
       "      <td>20 Feet / Blacktopped</td>\n",
       "      <td>20 Feet</td>\n",
       "      <td>Blacktopped</td>\n",
       "    </tr>\n",
       "  </tbody>\n",
       "</table>\n",
       "</div>"
      ],
      "text/plain": [
       "                                    Address       City      Price  Bedroom  \\\n",
       "0  Budhanikantha, Budhanilkantha, Kathmandu  Kathmandu   90000000        6   \n",
       "1        Pasikot, Budhanilkantha, Kathmandu  Kathmandu   80000000        5   \n",
       "2               Dhapasi, Dhapasi, Kathmandu  Kathmandu   70000000        5   \n",
       "3           baluwatar, Baluwatar, Kathmandu  Kathmandu  130000000        6   \n",
       "4             Golfutar, Golfutar, Kathmandu  Kathmandu  100000000        6   \n",
       "\n",
       "   Bathroom  Floors  Parking  Face           Area                   Road  \\\n",
       "0         3     2.0       10  West   1-0-0-0 Aana  20 Feet / Blacktopped   \n",
       "1         3     2.0        9  East  0-21-0-0 Aana  20 Feet / Blacktopped   \n",
       "2         3     2.0       12  East   1-1-0-0 Aana  20 Feet / Blacktopped   \n",
       "3         4     3.0        9  West  0-10-1-0 Aana  20 Feet / Blacktopped   \n",
       "4         3     2.0       10  East  0-19-2-0 Aana  20 Feet / Blacktopped   \n",
       "\n",
       "  Road Width     Road Type  \n",
       "0   20 Feet    Blacktopped  \n",
       "1   20 Feet    Blacktopped  \n",
       "2   20 Feet    Blacktopped  \n",
       "3   20 Feet    Blacktopped  \n",
       "4   20 Feet    Blacktopped  "
      ]
     },
     "execution_count": 54,
     "metadata": {},
     "output_type": "execute_result"
    }
   ],
   "source": [
    "df1.head(5)"
   ]
  },
  {
   "cell_type": "code",
   "execution_count": 55,
   "metadata": {
    "colab": {
     "base_uri": "https://localhost:8080/",
     "height": 1000
    },
    "executionInfo": {
     "elapsed": 485,
     "status": "ok",
     "timestamp": 1727938765402,
     "user": {
      "displayName": "biplov belbase",
      "userId": "02095037767289247533"
     },
     "user_tz": -345
    },
    "id": "1C2LmJanLIoZ",
    "outputId": "6386ed43-0fa1-4374-c157-53e82fa2fe1b"
   },
   "outputs": [
    {
     "data": {
      "text/plain": [
       "City\n",
       "Kathmandu      1483\n",
       "Lalitpur        432\n",
       "Bhaktapur        85\n",
       "Pokhara          64\n",
       "Chitwan          33\n",
       "Nawalparasi      12\n",
       "Makwanpur        12\n",
       "Dharan           11\n",
       "Jhapa            10\n",
       "Sunsari           7\n",
       "Kirtipur          7\n",
       "Kavre             7\n",
       "Butwal            6\n",
       "Biratnagar        6\n",
       "Bara              4\n",
       "Dhading           4\n",
       "Morang            4\n",
       "Parsa             4\n",
       "Itahari           3\n",
       "Kaski             3\n",
       "Rupandehi         3\n",
       "Mahottari         1\n",
       "Bardiya           1\n",
       "Birtamod          1\n",
       "Dang              1\n",
       "Surkhet           1\n",
       "Bhairahawa        1\n",
       "Kapilvastu        1\n",
       "Tanahu            1\n",
       "Illam             1\n",
       "Nawalpur          1\n",
       "Kailali           1\n",
       "Name: count, dtype: int64"
      ]
     },
     "execution_count": 55,
     "metadata": {},
     "output_type": "execute_result"
    }
   ],
   "source": [
    "df1.City.value_counts()"
   ]
  },
  {
   "cell_type": "code",
   "execution_count": 56,
   "metadata": {
    "colab": {
     "base_uri": "https://localhost:8080/"
    },
    "executionInfo": {
     "elapsed": 2,
     "status": "ok",
     "timestamp": 1727938766602,
     "user": {
      "displayName": "biplov belbase",
      "userId": "02095037767289247533"
     },
     "user_tz": -345
    },
    "id": "64-Tt8VQM0To",
    "outputId": "f7bea0ea-5e61-4c40-fab3-0b22ab5e2a0a"
   },
   "outputs": [
    {
     "name": "stdout",
     "output_type": "stream",
     "text": [
      "['Pokhara', 'Chitwan', 'Nawalparasi', 'Makwanpur', 'Dharan', 'Jhapa', 'Sunsari', 'Kirtipur', 'Kavre', 'Butwal', 'Biratnagar', 'Bara', 'Dhading', 'Morang', 'Parsa', 'Itahari', 'Kaski', 'Rupandehi', 'Mahottari', 'Bardiya', 'Birtamod', 'Dang', 'Surkhet', 'Bhairahawa', 'Kapilvastu', 'Tanahu', 'Illam', 'Nawalpur', 'Kailali']\n"
     ]
    }
   ],
   "source": [
    "city_counts = df.City.value_counts()\n",
    "values_to_drop= city_counts[city_counts < 80].index.tolist()\n",
    "print(values_to_drop)"
   ]
  },
  {
   "cell_type": "code",
   "execution_count": 57,
   "metadata": {
    "executionInfo": {
     "elapsed": 449,
     "status": "ok",
     "timestamp": 1727938768781,
     "user": {
      "displayName": "biplov belbase",
      "userId": "02095037767289247533"
     },
     "user_tz": -345
    },
    "id": "LRGaHEQUN85Z"
   },
   "outputs": [],
   "source": [
    "df2= df1.loc[~df1['City'].isin(values_to_drop)]"
   ]
  },
  {
   "cell_type": "code",
   "execution_count": 58,
   "metadata": {
    "colab": {
     "base_uri": "https://localhost:8080/",
     "height": 209
    },
    "executionInfo": {
     "elapsed": 3,
     "status": "ok",
     "timestamp": 1727938769846,
     "user": {
      "displayName": "biplov belbase",
      "userId": "02095037767289247533"
     },
     "user_tz": -345
    },
    "id": "NQEGuPjSSXle",
    "outputId": "848c9f35-1e4e-417e-9746-063a377b2f60"
   },
   "outputs": [
    {
     "data": {
      "text/plain": [
       "City\n",
       "Kathmandu    1483\n",
       "Lalitpur      432\n",
       "Bhaktapur      85\n",
       "Name: count, dtype: int64"
      ]
     },
     "execution_count": 58,
     "metadata": {},
     "output_type": "execute_result"
    }
   ],
   "source": [
    "df2.City.value_counts()"
   ]
  },
  {
   "cell_type": "code",
   "execution_count": 59,
   "metadata": {
    "colab": {
     "base_uri": "https://localhost:8080/"
    },
    "executionInfo": {
     "elapsed": 2,
     "status": "ok",
     "timestamp": 1727938771581,
     "user": {
      "displayName": "biplov belbase",
      "userId": "02095037767289247533"
     },
     "user_tz": -345
    },
    "id": "uQjOZB0GUfPy",
    "outputId": "bef24aa6-1390-4034-8422-66c31e98c81e"
   },
   "outputs": [
    {
     "name": "stdout",
     "output_type": "stream",
     "text": [
      "['Address', 'City', 'Price', 'Bedroom', 'Bathroom', 'Floors', 'Parking', 'Face', 'Area', 'Road', 'Road Width', 'Road Type']\n"
     ]
    }
   ],
   "source": [
    "column=(df2.columns.tolist())\n",
    "print(column)"
   ]
  },
  {
   "cell_type": "code",
   "execution_count": 60,
   "metadata": {
    "colab": {
     "base_uri": "https://localhost:8080/"
    },
    "executionInfo": {
     "elapsed": 3,
     "status": "ok",
     "timestamp": 1727938773268,
     "user": {
      "displayName": "biplov belbase",
      "userId": "02095037767289247533"
     },
     "user_tz": -345
    },
    "id": "p6ZmThL_U3DK",
    "outputId": "f4d8bb38-ddad-4b1a-c7cb-e20c6454fe01"
   },
   "outputs": [
    {
     "name": "stdout",
     "output_type": "stream",
     "text": [
      "Number of unique values in 'column_name': 1396\n",
      "Unique value and count of Address in Dataframe\n",
      "Address\n",
      "Na, Budhanilkantha, Kathmandu                                           38\n",
      "Budhanilkantha, Budhanilkantha, Kathmandu                               24\n",
      "Hattigauda, Hattigauda, Kathmandu                                       17\n",
      "Basundhara, Basundhara, Kathmandu                                       16\n",
      "Bhaisepati, Bhaisepati, Lalitpur                                        16\n",
      "                                                                        ..\n",
      "Khahare-Gothatar near mahantar chowk, Kageshwari-Manohara, Kathmandu     1\n",
      "Tinthana, Balkhu, Kathmandu                                              1\n",
      "Gurjudhara, Gurujudhara, Kathmandu                                       1\n",
      "Dallu, Swayambhu, Kathmandu                                              1\n",
      "Gocha marg, Baluwatar, Kathmandu                                         1\n",
      "Name: count, Length: 1396, dtype: int64\n",
      "\n",
      "\n",
      "Number of unique values in 'column_name': 3\n",
      "Unique value and count of City in Dataframe\n",
      "City\n",
      "Kathmandu    1483\n",
      "Lalitpur      432\n",
      "Bhaktapur      85\n",
      "Name: count, dtype: int64\n",
      "\n",
      "\n",
      "Number of unique values in 'column_name': 383\n",
      "Unique value and count of Price in Dataframe\n",
      "Price\n",
      "3500000      34\n",
      "25000000     30\n",
      "35000000     28\n",
      "2500000      26\n",
      "45000000     25\n",
      "             ..\n",
      "47000000      1\n",
      "122500000     1\n",
      "35200000      1\n",
      "5600000       1\n",
      "11700000      1\n",
      "Name: count, Length: 383, dtype: int64\n",
      "\n",
      "\n",
      "Number of unique values in 'column_name': 27\n",
      "Unique value and count of Bedroom in Dataframe\n",
      "Bedroom\n",
      "0     946\n",
      "5     242\n",
      "4     215\n",
      "6     160\n",
      "3     110\n",
      "2     103\n",
      "7      66\n",
      "8      35\n",
      "10     28\n",
      "9      19\n",
      "11     18\n",
      "1      15\n",
      "12     12\n",
      "18      6\n",
      "14      4\n",
      "17      4\n",
      "13      4\n",
      "16      3\n",
      "23      2\n",
      "21      1\n",
      "42      1\n",
      "28      1\n",
      "24      1\n",
      "43      1\n",
      "22      1\n",
      "95      1\n",
      "15      1\n",
      "Name: count, dtype: int64\n",
      "\n",
      "\n",
      "Number of unique values in 'column_name': 19\n",
      "Unique value and count of Bathroom in Dataframe\n",
      "Bathroom\n",
      "0     976\n",
      "3     261\n",
      "4     241\n",
      "5     156\n",
      "2     111\n",
      "1     107\n",
      "6      97\n",
      "7      22\n",
      "8       8\n",
      "10      8\n",
      "9       4\n",
      "16      2\n",
      "40      1\n",
      "20      1\n",
      "19      1\n",
      "17      1\n",
      "15      1\n",
      "18      1\n",
      "13      1\n",
      "Name: count, dtype: int64\n",
      "\n",
      "\n",
      "Number of unique values in 'column_name': 19\n",
      "Unique value and count of Floors in Dataframe\n",
      "Floors\n",
      "3.00     540\n",
      "2.00     153\n",
      "4.00      81\n",
      "2.50      54\n",
      "1.00      51\n",
      "5.00      25\n",
      "0.00      23\n",
      "1.50      14\n",
      "3.50      10\n",
      "6.00       8\n",
      "7.00       5\n",
      "10.00      4\n",
      "4.50       3\n",
      "9.00       2\n",
      "12.00      2\n",
      "1.35       1\n",
      "13.00      1\n",
      "5.50       1\n",
      "8.00       1\n",
      "Name: count, dtype: int64\n",
      "\n",
      "\n",
      "Number of unique values in 'column_name': 17\n",
      "Unique value and count of Parking in Dataframe\n",
      "Parking\n",
      "0     1145\n",
      "1      385\n",
      "2      198\n",
      "3       97\n",
      "4       95\n",
      "5       31\n",
      "10      13\n",
      "6        9\n",
      "9        5\n",
      "8        5\n",
      "7        4\n",
      "12       4\n",
      "20       4\n",
      "15       2\n",
      "11       1\n",
      "31       1\n",
      "30       1\n",
      "Name: count, dtype: int64\n",
      "\n",
      "\n",
      "Number of unique values in 'column_name': 8\n",
      "Unique value and count of Face in Dataframe\n",
      "Face\n",
      "East          670\n",
      "South         350\n",
      "West          276\n",
      "North         254\n",
      "South East    202\n",
      "North East    113\n",
      "South West     95\n",
      "North West     40\n",
      "Name: count, dtype: int64\n",
      "\n",
      "\n",
      "Number of unique values in 'column_name': 484\n",
      "Unique value and count of Area in Dataframe\n",
      "Area\n",
      "4 Aana          160\n",
      "3 Aana           85\n",
      "5 Aana           67\n",
      "0-4-0-0 Aana     65\n",
      "8 Aana           57\n",
      "               ... \n",
      "2-3 Aana          1\n",
      "58 Aana           1\n",
      "4.9.0.0 Aana      1\n",
      "0-0-2 Paisa       1\n",
      "51 Aana           1\n",
      "Name: count, Length: 484, dtype: int64\n",
      "\n",
      "\n",
      "Number of unique values in 'column_name': 160\n",
      "Unique value and count of Road in Dataframe\n",
      "Road\n",
      "0 Feet                   161\n",
      "20 Feet / Blacktopped    150\n",
      "13 Feet                  135\n",
      "20 Feet                  135\n",
      "15 Feet / Blacktopped    125\n",
      "                        ... \n",
      "300 Meter                  1\n",
      "11 Feet / Paved            1\n",
      "5 Feet / Gravelled         1\n",
      "40 Feet / Gravelled        1\n",
      "21 Feet                    1\n",
      "Name: count, Length: 160, dtype: int64\n",
      "\n",
      "\n",
      "Number of unique values in 'column_name': 92\n",
      "Unique value and count of Road Width in Dataframe\n",
      "Road Width\n",
      "13 Feet     286\n",
      "20 Feet     225\n",
      "15 Feet     188\n",
      "0 Feet      161\n",
      "13 Feet     135\n",
      "           ... \n",
      "1 Feet        1\n",
      "23 Feet       1\n",
      "1 Meter       1\n",
      "28 Feet       1\n",
      "300 Feet      1\n",
      "Name: count, Length: 92, dtype: int64\n",
      "\n",
      "\n",
      "Number of unique values in 'column_name': 6\n",
      "Unique value and count of Road Type in Dataframe\n",
      "Road Type\n",
      "Blacktopped        686\n",
      "Gravelled          354\n",
      "Soil Stabilized    142\n",
      "Paved               69\n",
      "Concrete            25\n",
      "Alley                2\n",
      "Name: count, dtype: int64\n",
      "\n",
      "\n"
     ]
    }
   ],
   "source": [
    "for col in column:\n",
    "  num_unique = df2[col].nunique()\n",
    "  print(f\"Number of unique values in 'column_name': {num_unique}\")\n",
    "  print(f\"Unique value and count of {col} in Dataframe\")\n",
    "  print(df2[col].value_counts())\n",
    "  print(\"\\n\")"
   ]
  },
  {
   "cell_type": "code",
   "execution_count": 61,
   "metadata": {
    "colab": {
     "base_uri": "https://localhost:8080/"
    },
    "executionInfo": {
     "elapsed": 8,
     "status": "ok",
     "timestamp": 1727938774428,
     "user": {
      "displayName": "biplov belbase",
      "userId": "02095037767289247533"
     },
     "user_tz": -345
    },
    "id": "d16e8JUyVRAB",
    "outputId": "ba49d069-f9c0-45fb-9919-72976b42ebf1"
   },
   "outputs": [
    {
     "data": {
      "text/plain": [
       "['Address',\n",
       " 'City',\n",
       " 'Price',\n",
       " 'Bedroom',\n",
       " 'Bathroom',\n",
       " 'Floors',\n",
       " 'Parking',\n",
       " 'Face',\n",
       " 'Area',\n",
       " 'Road',\n",
       " 'Road Width',\n",
       " 'Road Type']"
      ]
     },
     "execution_count": 61,
     "metadata": {},
     "output_type": "execute_result"
    }
   ],
   "source": [
    "df2.columns.tolist()"
   ]
  },
  {
   "cell_type": "code",
   "execution_count": 62,
   "metadata": {
    "colab": {
     "base_uri": "https://localhost:8080/"
    },
    "executionInfo": {
     "elapsed": 4,
     "status": "ok",
     "timestamp": 1727938776022,
     "user": {
      "displayName": "biplov belbase",
      "userId": "02095037767289247533"
     },
     "user_tz": -345
    },
    "id": "NzC3ty3ibFQq",
    "outputId": "cbb43c45-28c4-44ab-f0f2-fd5f9edee392"
   },
   "outputs": [
    {
     "name": "stderr",
     "output_type": "stream",
     "text": [
      "C:\\Windows\\Temp\\ipykernel_1464\\3092017312.py:1: SettingWithCopyWarning: \n",
      "A value is trying to be set on a copy of a slice from a DataFrame\n",
      "\n",
      "See the caveats in the documentation: https://pandas.pydata.org/pandas-docs/stable/user_guide/indexing.html#returning-a-view-versus-a-copy\n",
      "  df2.drop([\"Address\",\"Bedroom\",\"Bathroom\",\"Parking\",\"Road\"],axis=1,inplace=True)\n"
     ]
    }
   ],
   "source": [
    "df2.drop([\"Address\",\"Bedroom\",\"Bathroom\",\"Parking\",\"Road\"],axis=1,inplace=True)"
   ]
  },
  {
   "cell_type": "code",
   "execution_count": 63,
   "metadata": {
    "colab": {
     "base_uri": "https://localhost:8080/",
     "height": 363
    },
    "executionInfo": {
     "elapsed": 9,
     "status": "ok",
     "timestamp": 1727938776631,
     "user": {
      "displayName": "biplov belbase",
      "userId": "02095037767289247533"
     },
     "user_tz": -345
    },
    "id": "d-2y-uZpdGVA",
    "outputId": "f17eca2f-5eeb-4f20-d2ed-7a7cea54322b"
   },
   "outputs": [
    {
     "data": {
      "text/html": [
       "<div>\n",
       "<style scoped>\n",
       "    .dataframe tbody tr th:only-of-type {\n",
       "        vertical-align: middle;\n",
       "    }\n",
       "\n",
       "    .dataframe tbody tr th {\n",
       "        vertical-align: top;\n",
       "    }\n",
       "\n",
       "    .dataframe thead th {\n",
       "        text-align: right;\n",
       "    }\n",
       "</style>\n",
       "<table border=\"1\" class=\"dataframe\">\n",
       "  <thead>\n",
       "    <tr style=\"text-align: right;\">\n",
       "      <th></th>\n",
       "      <th>City</th>\n",
       "      <th>Price</th>\n",
       "      <th>Floors</th>\n",
       "      <th>Face</th>\n",
       "      <th>Area</th>\n",
       "      <th>Road Width</th>\n",
       "      <th>Road Type</th>\n",
       "    </tr>\n",
       "  </thead>\n",
       "  <tbody>\n",
       "    <tr>\n",
       "      <th>0</th>\n",
       "      <td>Kathmandu</td>\n",
       "      <td>90000000</td>\n",
       "      <td>2.0</td>\n",
       "      <td>West</td>\n",
       "      <td>1-0-0-0 Aana</td>\n",
       "      <td>20 Feet</td>\n",
       "      <td>Blacktopped</td>\n",
       "    </tr>\n",
       "    <tr>\n",
       "      <th>1</th>\n",
       "      <td>Kathmandu</td>\n",
       "      <td>80000000</td>\n",
       "      <td>2.0</td>\n",
       "      <td>East</td>\n",
       "      <td>0-21-0-0 Aana</td>\n",
       "      <td>20 Feet</td>\n",
       "      <td>Blacktopped</td>\n",
       "    </tr>\n",
       "    <tr>\n",
       "      <th>2</th>\n",
       "      <td>Kathmandu</td>\n",
       "      <td>70000000</td>\n",
       "      <td>2.0</td>\n",
       "      <td>East</td>\n",
       "      <td>1-1-0-0 Aana</td>\n",
       "      <td>20 Feet</td>\n",
       "      <td>Blacktopped</td>\n",
       "    </tr>\n",
       "    <tr>\n",
       "      <th>3</th>\n",
       "      <td>Kathmandu</td>\n",
       "      <td>130000000</td>\n",
       "      <td>3.0</td>\n",
       "      <td>West</td>\n",
       "      <td>0-10-1-0 Aana</td>\n",
       "      <td>20 Feet</td>\n",
       "      <td>Blacktopped</td>\n",
       "    </tr>\n",
       "    <tr>\n",
       "      <th>4</th>\n",
       "      <td>Kathmandu</td>\n",
       "      <td>100000000</td>\n",
       "      <td>2.0</td>\n",
       "      <td>East</td>\n",
       "      <td>0-19-2-0 Aana</td>\n",
       "      <td>20 Feet</td>\n",
       "      <td>Blacktopped</td>\n",
       "    </tr>\n",
       "    <tr>\n",
       "      <th>5</th>\n",
       "      <td>Kathmandu</td>\n",
       "      <td>100000000</td>\n",
       "      <td>3.0</td>\n",
       "      <td>East</td>\n",
       "      <td>0-12-3-1 Aana</td>\n",
       "      <td>13 Feet</td>\n",
       "      <td>Blacktopped</td>\n",
       "    </tr>\n",
       "    <tr>\n",
       "      <th>6</th>\n",
       "      <td>Lalitpur</td>\n",
       "      <td>11000000</td>\n",
       "      <td>3.0</td>\n",
       "      <td>South East</td>\n",
       "      <td>3-1-1 Aana</td>\n",
       "      <td>11 Feet</td>\n",
       "      <td>Gravelled</td>\n",
       "    </tr>\n",
       "    <tr>\n",
       "      <th>7</th>\n",
       "      <td>Kathmandu</td>\n",
       "      <td>50000000</td>\n",
       "      <td>2.0</td>\n",
       "      <td>East</td>\n",
       "      <td>0-8-5-0 Aana</td>\n",
       "      <td>20 Feet</td>\n",
       "      <td>Blacktopped</td>\n",
       "    </tr>\n",
       "    <tr>\n",
       "      <th>8</th>\n",
       "      <td>Kathmandu</td>\n",
       "      <td>100000000</td>\n",
       "      <td>3.5</td>\n",
       "      <td>North</td>\n",
       "      <td>0-12-3-2 Aana</td>\n",
       "      <td>20 Feet</td>\n",
       "      <td>Blacktopped</td>\n",
       "    </tr>\n",
       "    <tr>\n",
       "      <th>9</th>\n",
       "      <td>Kathmandu</td>\n",
       "      <td>32500000</td>\n",
       "      <td>2.5</td>\n",
       "      <td>South East</td>\n",
       "      <td>0-4-0-0 Aana</td>\n",
       "      <td>12 Feet</td>\n",
       "      <td>Concrete</td>\n",
       "    </tr>\n",
       "  </tbody>\n",
       "</table>\n",
       "</div>"
      ],
      "text/plain": [
       "        City      Price  Floors        Face           Area Road Width  \\\n",
       "0  Kathmandu   90000000     2.0        West   1-0-0-0 Aana   20 Feet    \n",
       "1  Kathmandu   80000000     2.0        East  0-21-0-0 Aana   20 Feet    \n",
       "2  Kathmandu   70000000     2.0        East   1-1-0-0 Aana   20 Feet    \n",
       "3  Kathmandu  130000000     3.0        West  0-10-1-0 Aana   20 Feet    \n",
       "4  Kathmandu  100000000     2.0        East  0-19-2-0 Aana   20 Feet    \n",
       "5  Kathmandu  100000000     3.0        East  0-12-3-1 Aana   13 Feet    \n",
       "6   Lalitpur   11000000     3.0  South East     3-1-1 Aana   11 Feet    \n",
       "7  Kathmandu   50000000     2.0        East   0-8-5-0 Aana   20 Feet    \n",
       "8  Kathmandu  100000000     3.5       North  0-12-3-2 Aana   20 Feet    \n",
       "9  Kathmandu   32500000     2.5  South East   0-4-0-0 Aana   12 Feet    \n",
       "\n",
       "      Road Type  \n",
       "0   Blacktopped  \n",
       "1   Blacktopped  \n",
       "2   Blacktopped  \n",
       "3   Blacktopped  \n",
       "4   Blacktopped  \n",
       "5   Blacktopped  \n",
       "6     Gravelled  \n",
       "7   Blacktopped  \n",
       "8   Blacktopped  \n",
       "9      Concrete  "
      ]
     },
     "execution_count": 63,
     "metadata": {},
     "output_type": "execute_result"
    }
   ],
   "source": [
    "df2.head(10)"
   ]
  },
  {
   "cell_type": "code",
   "execution_count": 64,
   "metadata": {
    "executionInfo": {
     "elapsed": 442,
     "status": "ok",
     "timestamp": 1727938781781,
     "user": {
      "displayName": "biplov belbase",
      "userId": "02095037767289247533"
     },
     "user_tz": -345
    },
    "id": "h-xTQw5Tllp8"
   },
   "outputs": [],
   "source": [
    "# Function to convert each entry to Aana\n",
    "import re\n",
    "def convert_to_aana(area):\n",
    "    area = area.strip()\n",
    "\n",
    "    # Check for \"Ropani\" and convert\n",
    "    if \"Ropani\" in area:\n",
    "        ropani = float(re.findall(r'\\d+', area)[0])\n",
    "        return ropani * 16\n",
    "\n",
    "    # Check for \"Sq. Feet\" and convert to aana\n",
    "    if \"Sq. Feet\" in area:\n",
    "        # Extract the numeric part using regex\n",
    "        matches = re.findall(r'\\d+', area)\n",
    "        if matches:  # Ensure there is at least one match\n",
    "            sq_feet = float(matches[0])\n",
    "            return sq_feet / 342.25  # Convert to aana\n",
    "\n",
    "    # Check for a-b-c-d Aana format\n",
    "    if re.match(r'\\d+-\\d+-\\d+-\\d+ Aana', area):\n",
    "        parts = list(map(int, area.split(' ')[0].split('-')))\n",
    "        a, b, c, d = parts\n",
    "        return a * 16 + b + c / 4 + d / 16\n",
    "\n",
    "    # Check for x-y-z Aana format\n",
    "    if re.match(r'\\d+-\\d+-\\d+ Aana', area):\n",
    "        parts = list(map(int, area.split(' ')[0].split('-')))\n",
    "        x, y, z = parts\n",
    "        return x + y / 4 + z / 16\n",
    "\n",
    "    # Check for x-y Aana format\n",
    "    if re.match(r'\\d+-\\d+ Aana', area):\n",
    "        parts = list(map(int, area.split(' ')[0].split('-')))\n",
    "        x, y = parts\n",
    "        return x + y / 4\n",
    "\n",
    "    # Check for \"X Aana\" format (including decimals)\n",
    "    if re.match(r'^\\d+\\.?\\d* Aana$', area):\n",
    "        return float(re.findall(r'\\d+\\.?\\d*', area)[0])\n",
    "\n",
    "    # If none of the formats match, return \"Remove\"\n",
    "    return \"Remove\""
   ]
  },
  {
   "cell_type": "code",
   "execution_count": 65,
   "metadata": {
    "colab": {
     "base_uri": "https://localhost:8080/"
    },
    "executionInfo": {
     "elapsed": 471,
     "status": "ok",
     "timestamp": 1727938786115,
     "user": {
      "displayName": "biplov belbase",
      "userId": "02095037767289247533"
     },
     "user_tz": -345
    },
    "id": "nDtE7xiknerB",
    "outputId": "2341f1be-ee3b-4b60-f850-8f08c3269730"
   },
   "outputs": [
    {
     "name": "stderr",
     "output_type": "stream",
     "text": [
      "C:\\Windows\\Temp\\ipykernel_1464\\318096488.py:1: SettingWithCopyWarning: \n",
      "A value is trying to be set on a copy of a slice from a DataFrame.\n",
      "Try using .loc[row_indexer,col_indexer] = value instead\n",
      "\n",
      "See the caveats in the documentation: https://pandas.pydata.org/pandas-docs/stable/user_guide/indexing.html#returning-a-view-versus-a-copy\n",
      "  df2['Area'] = df2['Area'].apply(convert_to_aana)\n"
     ]
    }
   ],
   "source": [
    "df2['Area'] = df2['Area'].apply(convert_to_aana)"
   ]
  },
  {
   "cell_type": "code",
   "execution_count": 66,
   "metadata": {
    "colab": {
     "base_uri": "https://localhost:8080/",
     "height": 206
    },
    "executionInfo": {
     "elapsed": 462,
     "status": "ok",
     "timestamp": 1727938790093,
     "user": {
      "displayName": "biplov belbase",
      "userId": "02095037767289247533"
     },
     "user_tz": -345
    },
    "id": "QkW4qLiCuNL-",
    "outputId": "27082f07-a88b-43b1-ac1e-c4dffaab9710"
   },
   "outputs": [
    {
     "data": {
      "text/html": [
       "<div>\n",
       "<style scoped>\n",
       "    .dataframe tbody tr th:only-of-type {\n",
       "        vertical-align: middle;\n",
       "    }\n",
       "\n",
       "    .dataframe tbody tr th {\n",
       "        vertical-align: top;\n",
       "    }\n",
       "\n",
       "    .dataframe thead th {\n",
       "        text-align: right;\n",
       "    }\n",
       "</style>\n",
       "<table border=\"1\" class=\"dataframe\">\n",
       "  <thead>\n",
       "    <tr style=\"text-align: right;\">\n",
       "      <th></th>\n",
       "      <th>City</th>\n",
       "      <th>Price</th>\n",
       "      <th>Floors</th>\n",
       "      <th>Face</th>\n",
       "      <th>Area</th>\n",
       "      <th>Road Width</th>\n",
       "      <th>Road Type</th>\n",
       "    </tr>\n",
       "  </thead>\n",
       "  <tbody>\n",
       "    <tr>\n",
       "      <th>0</th>\n",
       "      <td>Kathmandu</td>\n",
       "      <td>90000000</td>\n",
       "      <td>2.0</td>\n",
       "      <td>West</td>\n",
       "      <td>16.0</td>\n",
       "      <td>20 Feet</td>\n",
       "      <td>Blacktopped</td>\n",
       "    </tr>\n",
       "    <tr>\n",
       "      <th>1</th>\n",
       "      <td>Kathmandu</td>\n",
       "      <td>80000000</td>\n",
       "      <td>2.0</td>\n",
       "      <td>East</td>\n",
       "      <td>21.0</td>\n",
       "      <td>20 Feet</td>\n",
       "      <td>Blacktopped</td>\n",
       "    </tr>\n",
       "    <tr>\n",
       "      <th>2</th>\n",
       "      <td>Kathmandu</td>\n",
       "      <td>70000000</td>\n",
       "      <td>2.0</td>\n",
       "      <td>East</td>\n",
       "      <td>17.0</td>\n",
       "      <td>20 Feet</td>\n",
       "      <td>Blacktopped</td>\n",
       "    </tr>\n",
       "    <tr>\n",
       "      <th>3</th>\n",
       "      <td>Kathmandu</td>\n",
       "      <td>130000000</td>\n",
       "      <td>3.0</td>\n",
       "      <td>West</td>\n",
       "      <td>10.25</td>\n",
       "      <td>20 Feet</td>\n",
       "      <td>Blacktopped</td>\n",
       "    </tr>\n",
       "    <tr>\n",
       "      <th>4</th>\n",
       "      <td>Kathmandu</td>\n",
       "      <td>100000000</td>\n",
       "      <td>2.0</td>\n",
       "      <td>East</td>\n",
       "      <td>19.5</td>\n",
       "      <td>20 Feet</td>\n",
       "      <td>Blacktopped</td>\n",
       "    </tr>\n",
       "  </tbody>\n",
       "</table>\n",
       "</div>"
      ],
      "text/plain": [
       "        City      Price  Floors  Face   Area Road Width     Road Type\n",
       "0  Kathmandu   90000000     2.0  West   16.0   20 Feet    Blacktopped\n",
       "1  Kathmandu   80000000     2.0  East   21.0   20 Feet    Blacktopped\n",
       "2  Kathmandu   70000000     2.0  East   17.0   20 Feet    Blacktopped\n",
       "3  Kathmandu  130000000     3.0  West  10.25   20 Feet    Blacktopped\n",
       "4  Kathmandu  100000000     2.0  East   19.5   20 Feet    Blacktopped"
      ]
     },
     "execution_count": 66,
     "metadata": {},
     "output_type": "execute_result"
    }
   ],
   "source": [
    "df2.head(5)"
   ]
  },
  {
   "cell_type": "code",
   "execution_count": 67,
   "metadata": {
    "colab": {
     "base_uri": "https://localhost:8080/"
    },
    "executionInfo": {
     "elapsed": 454,
     "status": "ok",
     "timestamp": 1727938794999,
     "user": {
      "displayName": "biplov belbase",
      "userId": "02095037767289247533"
     },
     "user_tz": -345
    },
    "id": "oXWeIKkwuRBS",
    "outputId": "635319a2-ce0a-4f4a-877a-183474266e57"
   },
   "outputs": [
    {
     "data": {
      "text/plain": [
       "65"
      ]
     },
     "execution_count": 67,
     "metadata": {},
     "output_type": "execute_result"
    }
   ],
   "source": [
    "df2.Area.value_counts().get('Remove',0)"
   ]
  },
  {
   "cell_type": "code",
   "execution_count": 68,
   "metadata": {
    "executionInfo": {
     "elapsed": 2,
     "status": "ok",
     "timestamp": 1727938796478,
     "user": {
      "displayName": "biplov belbase",
      "userId": "02095037767289247533"
     },
     "user_tz": -345
    },
    "id": "i3641sDkAJLh"
   },
   "outputs": [],
   "source": [
    "df2 = df2[df2.Area != 'Remove']"
   ]
  },
  {
   "cell_type": "code",
   "execution_count": 69,
   "metadata": {
    "colab": {
     "base_uri": "https://localhost:8080/"
    },
    "executionInfo": {
     "elapsed": 433,
     "status": "ok",
     "timestamp": 1727938800901,
     "user": {
      "displayName": "biplov belbase",
      "userId": "02095037767289247533"
     },
     "user_tz": -345
    },
    "id": "3MALgOzNAXbX",
    "outputId": "f37a312b-b568-4cc0-8b1e-281cd49c71bf"
   },
   "outputs": [
    {
     "data": {
      "text/plain": [
       "(1935, 7)"
      ]
     },
     "execution_count": 69,
     "metadata": {},
     "output_type": "execute_result"
    }
   ],
   "source": [
    "df2.shape"
   ]
  },
  {
   "cell_type": "code",
   "execution_count": 70,
   "metadata": {
    "colab": {
     "base_uri": "https://localhost:8080/"
    },
    "executionInfo": {
     "elapsed": 455,
     "status": "ok",
     "timestamp": 1727938803882,
     "user": {
      "displayName": "biplov belbase",
      "userId": "02095037767289247533"
     },
     "user_tz": -345
    },
    "id": "p90DcvmDAeok",
    "outputId": "ace8dbab-0968-4641-ffdf-31559b8404cf"
   },
   "outputs": [
    {
     "name": "stdout",
     "output_type": "stream",
     "text": [
      "City             0\n",
      "Price            0\n",
      "Floors        1000\n",
      "Face             0\n",
      "Area             0\n",
      "Road Width       0\n",
      "Road Type      710\n",
      "dtype: int64\n"
     ]
    }
   ],
   "source": [
    "nan_count = df2.isna().sum()\n",
    "\n",
    "print(nan_count)"
   ]
  },
  {
   "cell_type": "code",
   "execution_count": 71,
   "metadata": {
    "executionInfo": {
     "elapsed": 465,
     "status": "ok",
     "timestamp": 1727938834165,
     "user": {
      "displayName": "biplov belbase",
      "userId": "02095037767289247533"
     },
     "user_tz": -345
    },
    "id": "ZTVZ6zWs1AxT"
   },
   "outputs": [],
   "source": [
    "def convert_to_feet(value):\n",
    "    if 'Meter' in value:\n",
    "        # Extract the numerical part, convert to float, and multiply by 3.28084 to convert to feet\n",
    "        meters = int(float(value.replace(' Meter', '')))\n",
    "        return meters * 3.28084\n",
    "    elif 'Feet' in value:\n",
    "        # Extract the numerical part and return as is\n",
    "        return int(float(value.replace(' Feet', '')))\n",
    "    else:\n",
    "        return \"Remove\""
   ]
  },
  {
   "cell_type": "code",
   "execution_count": 72,
   "metadata": {
    "executionInfo": {
     "elapsed": 461,
     "status": "ok",
     "timestamp": 1727938837324,
     "user": {
      "displayName": "biplov belbase",
      "userId": "02095037767289247533"
     },
     "user_tz": -345
    },
    "id": "uoFdWdFTH7rw"
   },
   "outputs": [],
   "source": [
    "df3=df2.copy()"
   ]
  },
  {
   "cell_type": "code",
   "execution_count": 73,
   "metadata": {
    "executionInfo": {
     "elapsed": 2,
     "status": "ok",
     "timestamp": 1727938838622,
     "user": {
      "displayName": "biplov belbase",
      "userId": "02095037767289247533"
     },
     "user_tz": -345
    },
    "id": "lTgs7C_MCI4i"
   },
   "outputs": [],
   "source": [
    "df3['Road Width'] = df3['Road Width'].apply(convert_to_feet)"
   ]
  },
  {
   "cell_type": "code",
   "execution_count": 74,
   "metadata": {
    "colab": {
     "base_uri": "https://localhost:8080/",
     "height": 1000
    },
    "executionInfo": {
     "elapsed": 473,
     "status": "ok",
     "timestamp": 1727938842719,
     "user": {
      "displayName": "biplov belbase",
      "userId": "02095037767289247533"
     },
     "user_tz": -345
    },
    "id": "qBHvSGTCEyKt",
    "outputId": "b357d8c1-0007-41a3-94b5-9241e348a43b"
   },
   "outputs": [
    {
     "data": {
      "text/html": [
       "<div>\n",
       "<style scoped>\n",
       "    .dataframe tbody tr th:only-of-type {\n",
       "        vertical-align: middle;\n",
       "    }\n",
       "\n",
       "    .dataframe tbody tr th {\n",
       "        vertical-align: top;\n",
       "    }\n",
       "\n",
       "    .dataframe thead th {\n",
       "        text-align: right;\n",
       "    }\n",
       "</style>\n",
       "<table border=\"1\" class=\"dataframe\">\n",
       "  <thead>\n",
       "    <tr style=\"text-align: right;\">\n",
       "      <th></th>\n",
       "      <th>City</th>\n",
       "      <th>Price</th>\n",
       "      <th>Floors</th>\n",
       "      <th>Face</th>\n",
       "      <th>Area</th>\n",
       "      <th>Road Width</th>\n",
       "      <th>Road Type</th>\n",
       "    </tr>\n",
       "  </thead>\n",
       "  <tbody>\n",
       "    <tr>\n",
       "      <th>53</th>\n",
       "      <td>Kathmandu</td>\n",
       "      <td>46000000</td>\n",
       "      <td>2.5</td>\n",
       "      <td>South West</td>\n",
       "      <td>6.75</td>\n",
       "      <td>13.00000</td>\n",
       "      <td>Concrete</td>\n",
       "    </tr>\n",
       "    <tr>\n",
       "      <th>54</th>\n",
       "      <td>Kathmandu</td>\n",
       "      <td>22500000</td>\n",
       "      <td>3.0</td>\n",
       "      <td>East</td>\n",
       "      <td>4.0</td>\n",
       "      <td>13.00000</td>\n",
       "      <td>NaN</td>\n",
       "    </tr>\n",
       "    <tr>\n",
       "      <th>55</th>\n",
       "      <td>Bhaktapur</td>\n",
       "      <td>29000000</td>\n",
       "      <td>2.0</td>\n",
       "      <td>North</td>\n",
       "      <td>4.5</td>\n",
       "      <td>20.00000</td>\n",
       "      <td>Blacktopped</td>\n",
       "    </tr>\n",
       "    <tr>\n",
       "      <th>56</th>\n",
       "      <td>Kathmandu</td>\n",
       "      <td>31000000</td>\n",
       "      <td>3.0</td>\n",
       "      <td>East</td>\n",
       "      <td>3.0</td>\n",
       "      <td>19.68504</td>\n",
       "      <td>Blacktopped</td>\n",
       "    </tr>\n",
       "    <tr>\n",
       "      <th>57</th>\n",
       "      <td>Kathmandu</td>\n",
       "      <td>42500000</td>\n",
       "      <td>NaN</td>\n",
       "      <td>West</td>\n",
       "      <td>5.3125</td>\n",
       "      <td>29.00000</td>\n",
       "      <td>NaN</td>\n",
       "    </tr>\n",
       "    <tr>\n",
       "      <th>58</th>\n",
       "      <td>Kathmandu</td>\n",
       "      <td>37500000</td>\n",
       "      <td>3.0</td>\n",
       "      <td>South East</td>\n",
       "      <td>5.0</td>\n",
       "      <td>0.00000</td>\n",
       "      <td>NaN</td>\n",
       "    </tr>\n",
       "    <tr>\n",
       "      <th>60</th>\n",
       "      <td>Kathmandu</td>\n",
       "      <td>105000000</td>\n",
       "      <td>NaN</td>\n",
       "      <td>South</td>\n",
       "      <td>64.0</td>\n",
       "      <td>20.00000</td>\n",
       "      <td>NaN</td>\n",
       "    </tr>\n",
       "    <tr>\n",
       "      <th>61</th>\n",
       "      <td>Kathmandu</td>\n",
       "      <td>80000000</td>\n",
       "      <td>NaN</td>\n",
       "      <td>West</td>\n",
       "      <td>9.9375</td>\n",
       "      <td>13.00000</td>\n",
       "      <td>Gravelled</td>\n",
       "    </tr>\n",
       "    <tr>\n",
       "      <th>62</th>\n",
       "      <td>Lalitpur</td>\n",
       "      <td>25000000</td>\n",
       "      <td>2.0</td>\n",
       "      <td>East</td>\n",
       "      <td>4.5</td>\n",
       "      <td>13.00000</td>\n",
       "      <td>Gravelled</td>\n",
       "    </tr>\n",
       "    <tr>\n",
       "      <th>63</th>\n",
       "      <td>Bhaktapur</td>\n",
       "      <td>32500000</td>\n",
       "      <td>2.0</td>\n",
       "      <td>South</td>\n",
       "      <td>7.0</td>\n",
       "      <td>20.00000</td>\n",
       "      <td>Paved</td>\n",
       "    </tr>\n",
       "    <tr>\n",
       "      <th>64</th>\n",
       "      <td>Kathmandu</td>\n",
       "      <td>21000000</td>\n",
       "      <td>3.0</td>\n",
       "      <td>South West</td>\n",
       "      <td>0.0</td>\n",
       "      <td>12.00000</td>\n",
       "      <td>Blacktopped</td>\n",
       "    </tr>\n",
       "    <tr>\n",
       "      <th>66</th>\n",
       "      <td>Kathmandu</td>\n",
       "      <td>120000000</td>\n",
       "      <td>NaN</td>\n",
       "      <td>West</td>\n",
       "      <td>31.0</td>\n",
       "      <td>20.00000</td>\n",
       "      <td>NaN</td>\n",
       "    </tr>\n",
       "    <tr>\n",
       "      <th>68</th>\n",
       "      <td>Kathmandu</td>\n",
       "      <td>20000000</td>\n",
       "      <td>2.5</td>\n",
       "      <td>West</td>\n",
       "      <td>4.3125</td>\n",
       "      <td>10.00000</td>\n",
       "      <td>Gravelled</td>\n",
       "    </tr>\n",
       "    <tr>\n",
       "      <th>69</th>\n",
       "      <td>Bhaktapur</td>\n",
       "      <td>19000000</td>\n",
       "      <td>3.5</td>\n",
       "      <td>West</td>\n",
       "      <td>3.0</td>\n",
       "      <td>20.00000</td>\n",
       "      <td>Gravelled</td>\n",
       "    </tr>\n",
       "    <tr>\n",
       "      <th>70</th>\n",
       "      <td>Kathmandu</td>\n",
       "      <td>33500000</td>\n",
       "      <td>3.0</td>\n",
       "      <td>South East</td>\n",
       "      <td>4.0</td>\n",
       "      <td>18.00000</td>\n",
       "      <td>Blacktopped</td>\n",
       "    </tr>\n",
       "    <tr>\n",
       "      <th>71</th>\n",
       "      <td>Kathmandu</td>\n",
       "      <td>37000000</td>\n",
       "      <td>NaN</td>\n",
       "      <td>North East</td>\n",
       "      <td>5.125</td>\n",
       "      <td>13.00000</td>\n",
       "      <td>Blacktopped</td>\n",
       "    </tr>\n",
       "    <tr>\n",
       "      <th>72</th>\n",
       "      <td>Kathmandu</td>\n",
       "      <td>36000000</td>\n",
       "      <td>NaN</td>\n",
       "      <td>East</td>\n",
       "      <td>7.5</td>\n",
       "      <td>20.00000</td>\n",
       "      <td>NaN</td>\n",
       "    </tr>\n",
       "    <tr>\n",
       "      <th>73</th>\n",
       "      <td>Kathmandu</td>\n",
       "      <td>40000000</td>\n",
       "      <td>3.0</td>\n",
       "      <td>South</td>\n",
       "      <td>0.0</td>\n",
       "      <td>12.00000</td>\n",
       "      <td>Concrete</td>\n",
       "    </tr>\n",
       "    <tr>\n",
       "      <th>74</th>\n",
       "      <td>Lalitpur</td>\n",
       "      <td>12500000</td>\n",
       "      <td>1.0</td>\n",
       "      <td>West</td>\n",
       "      <td>3.0</td>\n",
       "      <td>20.00000</td>\n",
       "      <td>Gravelled</td>\n",
       "    </tr>\n",
       "    <tr>\n",
       "      <th>75</th>\n",
       "      <td>Lalitpur</td>\n",
       "      <td>19500000</td>\n",
       "      <td>2.5</td>\n",
       "      <td>East</td>\n",
       "      <td>3.25</td>\n",
       "      <td>20.00000</td>\n",
       "      <td>Gravelled</td>\n",
       "    </tr>\n",
       "    <tr>\n",
       "      <th>76</th>\n",
       "      <td>Lalitpur</td>\n",
       "      <td>22000000</td>\n",
       "      <td>2.5</td>\n",
       "      <td>West</td>\n",
       "      <td>3.5</td>\n",
       "      <td>20.00000</td>\n",
       "      <td>Gravelled</td>\n",
       "    </tr>\n",
       "    <tr>\n",
       "      <th>77</th>\n",
       "      <td>Lalitpur</td>\n",
       "      <td>21500000</td>\n",
       "      <td>2.5</td>\n",
       "      <td>East</td>\n",
       "      <td>4.0</td>\n",
       "      <td>20.00000</td>\n",
       "      <td>Gravelled</td>\n",
       "    </tr>\n",
       "    <tr>\n",
       "      <th>78</th>\n",
       "      <td>Lalitpur</td>\n",
       "      <td>19500000</td>\n",
       "      <td>2.5</td>\n",
       "      <td>North East</td>\n",
       "      <td>3.5</td>\n",
       "      <td>20.00000</td>\n",
       "      <td>Gravelled</td>\n",
       "    </tr>\n",
       "    <tr>\n",
       "      <th>79</th>\n",
       "      <td>Lalitpur</td>\n",
       "      <td>19000000</td>\n",
       "      <td>2.5</td>\n",
       "      <td>South</td>\n",
       "      <td>3.0</td>\n",
       "      <td>13.00000</td>\n",
       "      <td>Gravelled</td>\n",
       "    </tr>\n",
       "    <tr>\n",
       "      <th>80</th>\n",
       "      <td>Lalitpur</td>\n",
       "      <td>18000000</td>\n",
       "      <td>2.5</td>\n",
       "      <td>South</td>\n",
       "      <td>3.0</td>\n",
       "      <td>13.00000</td>\n",
       "      <td>Gravelled</td>\n",
       "    </tr>\n",
       "    <tr>\n",
       "      <th>81</th>\n",
       "      <td>Kathmandu</td>\n",
       "      <td>37000000</td>\n",
       "      <td>3.0</td>\n",
       "      <td>South</td>\n",
       "      <td>5.4375</td>\n",
       "      <td>12.00000</td>\n",
       "      <td>Gravelled</td>\n",
       "    </tr>\n",
       "    <tr>\n",
       "      <th>82</th>\n",
       "      <td>Kathmandu</td>\n",
       "      <td>34000000</td>\n",
       "      <td>3.0</td>\n",
       "      <td>South</td>\n",
       "      <td>4.0</td>\n",
       "      <td>12.00000</td>\n",
       "      <td>Gravelled</td>\n",
       "    </tr>\n",
       "    <tr>\n",
       "      <th>85</th>\n",
       "      <td>Kathmandu</td>\n",
       "      <td>26000000</td>\n",
       "      <td>3.0</td>\n",
       "      <td>South</td>\n",
       "      <td>4.125</td>\n",
       "      <td>16.00000</td>\n",
       "      <td>Gravelled</td>\n",
       "    </tr>\n",
       "    <tr>\n",
       "      <th>86</th>\n",
       "      <td>Kathmandu</td>\n",
       "      <td>22000000</td>\n",
       "      <td>NaN</td>\n",
       "      <td>South West</td>\n",
       "      <td>6.5</td>\n",
       "      <td>10.00000</td>\n",
       "      <td>NaN</td>\n",
       "    </tr>\n",
       "    <tr>\n",
       "      <th>87</th>\n",
       "      <td>Kathmandu</td>\n",
       "      <td>23000000</td>\n",
       "      <td>NaN</td>\n",
       "      <td>North East</td>\n",
       "      <td>4.0</td>\n",
       "      <td>10.00000</td>\n",
       "      <td>NaN</td>\n",
       "    </tr>\n",
       "    <tr>\n",
       "      <th>89</th>\n",
       "      <td>Kathmandu</td>\n",
       "      <td>15500000</td>\n",
       "      <td>NaN</td>\n",
       "      <td>North West</td>\n",
       "      <td>3.625</td>\n",
       "      <td>13.00000</td>\n",
       "      <td>NaN</td>\n",
       "    </tr>\n",
       "    <tr>\n",
       "      <th>91</th>\n",
       "      <td>Kathmandu</td>\n",
       "      <td>57500000</td>\n",
       "      <td>NaN</td>\n",
       "      <td>North East</td>\n",
       "      <td>6.25</td>\n",
       "      <td>12.00000</td>\n",
       "      <td>Blacktopped</td>\n",
       "    </tr>\n",
       "    <tr>\n",
       "      <th>92</th>\n",
       "      <td>Kathmandu</td>\n",
       "      <td>90000000</td>\n",
       "      <td>NaN</td>\n",
       "      <td>South East</td>\n",
       "      <td>10.0</td>\n",
       "      <td>20.00000</td>\n",
       "      <td>NaN</td>\n",
       "    </tr>\n",
       "    <tr>\n",
       "      <th>93</th>\n",
       "      <td>Kathmandu</td>\n",
       "      <td>17000000</td>\n",
       "      <td>2.5</td>\n",
       "      <td>North West</td>\n",
       "      <td>4.0</td>\n",
       "      <td>10.00000</td>\n",
       "      <td>Blacktopped</td>\n",
       "    </tr>\n",
       "    <tr>\n",
       "      <th>94</th>\n",
       "      <td>Lalitpur</td>\n",
       "      <td>12500000</td>\n",
       "      <td>1.5</td>\n",
       "      <td>South</td>\n",
       "      <td>3.25</td>\n",
       "      <td>13.00000</td>\n",
       "      <td>Gravelled</td>\n",
       "    </tr>\n",
       "    <tr>\n",
       "      <th>95</th>\n",
       "      <td>Bhaktapur</td>\n",
       "      <td>2100000</td>\n",
       "      <td>NaN</td>\n",
       "      <td>North East</td>\n",
       "      <td>0.0</td>\n",
       "      <td>20.00000</td>\n",
       "      <td>Gravelled</td>\n",
       "    </tr>\n",
       "    <tr>\n",
       "      <th>96</th>\n",
       "      <td>Kathmandu</td>\n",
       "      <td>45000000</td>\n",
       "      <td>3.0</td>\n",
       "      <td>South West</td>\n",
       "      <td>11.0</td>\n",
       "      <td>22.00000</td>\n",
       "      <td>NaN</td>\n",
       "    </tr>\n",
       "    <tr>\n",
       "      <th>97</th>\n",
       "      <td>Lalitpur</td>\n",
       "      <td>12500000</td>\n",
       "      <td>1.5</td>\n",
       "      <td>South</td>\n",
       "      <td>3.0</td>\n",
       "      <td>13.00000</td>\n",
       "      <td>Gravelled</td>\n",
       "    </tr>\n",
       "    <tr>\n",
       "      <th>98</th>\n",
       "      <td>Lalitpur</td>\n",
       "      <td>19000000</td>\n",
       "      <td>2.5</td>\n",
       "      <td>North West</td>\n",
       "      <td>3.5</td>\n",
       "      <td>13.00000</td>\n",
       "      <td>Gravelled</td>\n",
       "    </tr>\n",
       "    <tr>\n",
       "      <th>99</th>\n",
       "      <td>Kathmandu</td>\n",
       "      <td>32000000</td>\n",
       "      <td>NaN</td>\n",
       "      <td>South West</td>\n",
       "      <td>10.0</td>\n",
       "      <td>20.00000</td>\n",
       "      <td>NaN</td>\n",
       "    </tr>\n",
       "    <tr>\n",
       "      <th>100</th>\n",
       "      <td>Kathmandu</td>\n",
       "      <td>15500000</td>\n",
       "      <td>1.5</td>\n",
       "      <td>South West</td>\n",
       "      <td>4.0</td>\n",
       "      <td>20.00000</td>\n",
       "      <td>Gravelled</td>\n",
       "    </tr>\n",
       "    <tr>\n",
       "      <th>101</th>\n",
       "      <td>Kathmandu</td>\n",
       "      <td>3000000</td>\n",
       "      <td>NaN</td>\n",
       "      <td>West</td>\n",
       "      <td>12.0</td>\n",
       "      <td>16.00000</td>\n",
       "      <td>Paved</td>\n",
       "    </tr>\n",
       "    <tr>\n",
       "      <th>102</th>\n",
       "      <td>Kathmandu</td>\n",
       "      <td>6500000</td>\n",
       "      <td>NaN</td>\n",
       "      <td>East</td>\n",
       "      <td>18.0</td>\n",
       "      <td>40.00000</td>\n",
       "      <td>Blacktopped</td>\n",
       "    </tr>\n",
       "    <tr>\n",
       "      <th>103</th>\n",
       "      <td>Kathmandu</td>\n",
       "      <td>2350000</td>\n",
       "      <td>NaN</td>\n",
       "      <td>South</td>\n",
       "      <td>5.0</td>\n",
       "      <td>13.00000</td>\n",
       "      <td>Blacktopped</td>\n",
       "    </tr>\n",
       "    <tr>\n",
       "      <th>104</th>\n",
       "      <td>Kathmandu</td>\n",
       "      <td>4100000</td>\n",
       "      <td>NaN</td>\n",
       "      <td>East</td>\n",
       "      <td>4.0</td>\n",
       "      <td>13.00000</td>\n",
       "      <td>Soil Stabilized</td>\n",
       "    </tr>\n",
       "    <tr>\n",
       "      <th>106</th>\n",
       "      <td>Kathmandu</td>\n",
       "      <td>200000</td>\n",
       "      <td>NaN</td>\n",
       "      <td>North West</td>\n",
       "      <td>10.0</td>\n",
       "      <td>20.00000</td>\n",
       "      <td>NaN</td>\n",
       "    </tr>\n",
       "    <tr>\n",
       "      <th>107</th>\n",
       "      <td>Kathmandu</td>\n",
       "      <td>3500000</td>\n",
       "      <td>NaN</td>\n",
       "      <td>South</td>\n",
       "      <td>6.1</td>\n",
       "      <td>12.00000</td>\n",
       "      <td>Paved</td>\n",
       "    </tr>\n",
       "    <tr>\n",
       "      <th>108</th>\n",
       "      <td>Kathmandu</td>\n",
       "      <td>30000</td>\n",
       "      <td>NaN</td>\n",
       "      <td>West</td>\n",
       "      <td>4.0</td>\n",
       "      <td>11.00000</td>\n",
       "      <td>NaN</td>\n",
       "    </tr>\n",
       "    <tr>\n",
       "      <th>109</th>\n",
       "      <td>Kathmandu</td>\n",
       "      <td>2800000</td>\n",
       "      <td>NaN</td>\n",
       "      <td>West</td>\n",
       "      <td>18.0</td>\n",
       "      <td>20.00000</td>\n",
       "      <td>Blacktopped</td>\n",
       "    </tr>\n",
       "    <tr>\n",
       "      <th>110</th>\n",
       "      <td>Kathmandu</td>\n",
       "      <td>3500000</td>\n",
       "      <td>NaN</td>\n",
       "      <td>East</td>\n",
       "      <td>18.0</td>\n",
       "      <td>30.00000</td>\n",
       "      <td>Blacktopped</td>\n",
       "    </tr>\n",
       "  </tbody>\n",
       "</table>\n",
       "</div>"
      ],
      "text/plain": [
       "          City      Price  Floors        Face    Area  Road Width  \\\n",
       "53   Kathmandu   46000000     2.5  South West    6.75    13.00000   \n",
       "54   Kathmandu   22500000     3.0        East     4.0    13.00000   \n",
       "55   Bhaktapur   29000000     2.0       North     4.5    20.00000   \n",
       "56   Kathmandu   31000000     3.0        East     3.0    19.68504   \n",
       "57   Kathmandu   42500000     NaN        West  5.3125    29.00000   \n",
       "58   Kathmandu   37500000     3.0  South East     5.0     0.00000   \n",
       "60   Kathmandu  105000000     NaN       South    64.0    20.00000   \n",
       "61   Kathmandu   80000000     NaN        West  9.9375    13.00000   \n",
       "62    Lalitpur   25000000     2.0        East     4.5    13.00000   \n",
       "63   Bhaktapur   32500000     2.0       South     7.0    20.00000   \n",
       "64   Kathmandu   21000000     3.0  South West     0.0    12.00000   \n",
       "66   Kathmandu  120000000     NaN        West    31.0    20.00000   \n",
       "68   Kathmandu   20000000     2.5        West  4.3125    10.00000   \n",
       "69   Bhaktapur   19000000     3.5        West     3.0    20.00000   \n",
       "70   Kathmandu   33500000     3.0  South East     4.0    18.00000   \n",
       "71   Kathmandu   37000000     NaN  North East   5.125    13.00000   \n",
       "72   Kathmandu   36000000     NaN        East     7.5    20.00000   \n",
       "73   Kathmandu   40000000     3.0       South     0.0    12.00000   \n",
       "74    Lalitpur   12500000     1.0        West     3.0    20.00000   \n",
       "75    Lalitpur   19500000     2.5        East    3.25    20.00000   \n",
       "76    Lalitpur   22000000     2.5        West     3.5    20.00000   \n",
       "77    Lalitpur   21500000     2.5        East     4.0    20.00000   \n",
       "78    Lalitpur   19500000     2.5  North East     3.5    20.00000   \n",
       "79    Lalitpur   19000000     2.5       South     3.0    13.00000   \n",
       "80    Lalitpur   18000000     2.5       South     3.0    13.00000   \n",
       "81   Kathmandu   37000000     3.0       South  5.4375    12.00000   \n",
       "82   Kathmandu   34000000     3.0       South     4.0    12.00000   \n",
       "85   Kathmandu   26000000     3.0       South   4.125    16.00000   \n",
       "86   Kathmandu   22000000     NaN  South West     6.5    10.00000   \n",
       "87   Kathmandu   23000000     NaN  North East     4.0    10.00000   \n",
       "89   Kathmandu   15500000     NaN  North West   3.625    13.00000   \n",
       "91   Kathmandu   57500000     NaN  North East    6.25    12.00000   \n",
       "92   Kathmandu   90000000     NaN  South East    10.0    20.00000   \n",
       "93   Kathmandu   17000000     2.5  North West     4.0    10.00000   \n",
       "94    Lalitpur   12500000     1.5       South    3.25    13.00000   \n",
       "95   Bhaktapur    2100000     NaN  North East     0.0    20.00000   \n",
       "96   Kathmandu   45000000     3.0  South West    11.0    22.00000   \n",
       "97    Lalitpur   12500000     1.5       South     3.0    13.00000   \n",
       "98    Lalitpur   19000000     2.5  North West     3.5    13.00000   \n",
       "99   Kathmandu   32000000     NaN  South West    10.0    20.00000   \n",
       "100  Kathmandu   15500000     1.5  South West     4.0    20.00000   \n",
       "101  Kathmandu    3000000     NaN        West    12.0    16.00000   \n",
       "102  Kathmandu    6500000     NaN        East    18.0    40.00000   \n",
       "103  Kathmandu    2350000     NaN       South     5.0    13.00000   \n",
       "104  Kathmandu    4100000     NaN        East     4.0    13.00000   \n",
       "106  Kathmandu     200000     NaN  North West    10.0    20.00000   \n",
       "107  Kathmandu    3500000     NaN       South     6.1    12.00000   \n",
       "108  Kathmandu      30000     NaN        West     4.0    11.00000   \n",
       "109  Kathmandu    2800000     NaN        West    18.0    20.00000   \n",
       "110  Kathmandu    3500000     NaN        East    18.0    30.00000   \n",
       "\n",
       "            Road Type  \n",
       "53           Concrete  \n",
       "54                NaN  \n",
       "55        Blacktopped  \n",
       "56        Blacktopped  \n",
       "57                NaN  \n",
       "58                NaN  \n",
       "60                NaN  \n",
       "61          Gravelled  \n",
       "62          Gravelled  \n",
       "63              Paved  \n",
       "64        Blacktopped  \n",
       "66                NaN  \n",
       "68          Gravelled  \n",
       "69          Gravelled  \n",
       "70        Blacktopped  \n",
       "71        Blacktopped  \n",
       "72                NaN  \n",
       "73           Concrete  \n",
       "74          Gravelled  \n",
       "75          Gravelled  \n",
       "76          Gravelled  \n",
       "77          Gravelled  \n",
       "78          Gravelled  \n",
       "79          Gravelled  \n",
       "80          Gravelled  \n",
       "81          Gravelled  \n",
       "82          Gravelled  \n",
       "85          Gravelled  \n",
       "86                NaN  \n",
       "87                NaN  \n",
       "89                NaN  \n",
       "91        Blacktopped  \n",
       "92                NaN  \n",
       "93        Blacktopped  \n",
       "94          Gravelled  \n",
       "95          Gravelled  \n",
       "96                NaN  \n",
       "97          Gravelled  \n",
       "98          Gravelled  \n",
       "99                NaN  \n",
       "100         Gravelled  \n",
       "101             Paved  \n",
       "102       Blacktopped  \n",
       "103       Blacktopped  \n",
       "104   Soil Stabilized  \n",
       "106               NaN  \n",
       "107             Paved  \n",
       "108               NaN  \n",
       "109       Blacktopped  \n",
       "110       Blacktopped  "
      ]
     },
     "execution_count": 74,
     "metadata": {},
     "output_type": "execute_result"
    }
   ],
   "source": [
    "df3[50:100]"
   ]
  },
  {
   "cell_type": "code",
   "execution_count": 75,
   "metadata": {
    "colab": {
     "base_uri": "https://localhost:8080/"
    },
    "executionInfo": {
     "elapsed": 463,
     "status": "ok",
     "timestamp": 1727938848934,
     "user": {
      "displayName": "biplov belbase",
      "userId": "02095037767289247533"
     },
     "user_tz": -345
    },
    "id": "9bwirGhuCSas",
    "outputId": "7f49107c-c2c5-4beb-fe16-963ef11db211"
   },
   "outputs": [
    {
     "data": {
      "text/plain": [
       "0"
      ]
     },
     "execution_count": 75,
     "metadata": {},
     "output_type": "execute_result"
    }
   ],
   "source": [
    "df3['Road Width'].value_counts().get('Remove',0)"
   ]
  },
  {
   "cell_type": "code",
   "execution_count": 76,
   "metadata": {
    "executionInfo": {
     "elapsed": 1293,
     "status": "ok",
     "timestamp": 1727938851555,
     "user": {
      "displayName": "biplov belbase",
      "userId": "02095037767289247533"
     },
     "user_tz": -345
    },
    "id": "Hh53FcAOCaY2"
   },
   "outputs": [],
   "source": [
    "df3.to_csv('CleanedData.csv', index=False)"
   ]
  },
  {
   "cell_type": "code",
   "execution_count": 77,
   "metadata": {
    "executionInfo": {
     "elapsed": 2,
     "status": "ok",
     "timestamp": 1727938852918,
     "user": {
      "displayName": "biplov belbase",
      "userId": "02095037767289247533"
     },
     "user_tz": -345
    },
    "id": "ssF1J2VfMqMM"
   },
   "outputs": [],
   "source": [
    "df3 = pd.read_csv('CleanedData.csv')"
   ]
  },
  {
   "cell_type": "code",
   "execution_count": 78,
   "metadata": {
    "colab": {
     "base_uri": "https://localhost:8080/",
     "height": 363
    },
    "executionInfo": {
     "elapsed": 458,
     "status": "ok",
     "timestamp": 1727938856671,
     "user": {
      "displayName": "biplov belbase",
      "userId": "02095037767289247533"
     },
     "user_tz": -345
    },
    "id": "f3YoBLxrWwGN",
    "outputId": "d7410366-2190-4553-af67-c9c48a35e561"
   },
   "outputs": [
    {
     "data": {
      "text/html": [
       "<div>\n",
       "<style scoped>\n",
       "    .dataframe tbody tr th:only-of-type {\n",
       "        vertical-align: middle;\n",
       "    }\n",
       "\n",
       "    .dataframe tbody tr th {\n",
       "        vertical-align: top;\n",
       "    }\n",
       "\n",
       "    .dataframe thead th {\n",
       "        text-align: right;\n",
       "    }\n",
       "</style>\n",
       "<table border=\"1\" class=\"dataframe\">\n",
       "  <thead>\n",
       "    <tr style=\"text-align: right;\">\n",
       "      <th></th>\n",
       "      <th>City</th>\n",
       "      <th>Price</th>\n",
       "      <th>Floors</th>\n",
       "      <th>Face</th>\n",
       "      <th>Area</th>\n",
       "      <th>Road Width</th>\n",
       "      <th>Road Type</th>\n",
       "    </tr>\n",
       "  </thead>\n",
       "  <tbody>\n",
       "    <tr>\n",
       "      <th>0</th>\n",
       "      <td>Kathmandu</td>\n",
       "      <td>90000000</td>\n",
       "      <td>2.0</td>\n",
       "      <td>West</td>\n",
       "      <td>16.0000</td>\n",
       "      <td>20.0</td>\n",
       "      <td>Blacktopped</td>\n",
       "    </tr>\n",
       "    <tr>\n",
       "      <th>1</th>\n",
       "      <td>Kathmandu</td>\n",
       "      <td>80000000</td>\n",
       "      <td>2.0</td>\n",
       "      <td>East</td>\n",
       "      <td>21.0000</td>\n",
       "      <td>20.0</td>\n",
       "      <td>Blacktopped</td>\n",
       "    </tr>\n",
       "    <tr>\n",
       "      <th>2</th>\n",
       "      <td>Kathmandu</td>\n",
       "      <td>70000000</td>\n",
       "      <td>2.0</td>\n",
       "      <td>East</td>\n",
       "      <td>17.0000</td>\n",
       "      <td>20.0</td>\n",
       "      <td>Blacktopped</td>\n",
       "    </tr>\n",
       "    <tr>\n",
       "      <th>3</th>\n",
       "      <td>Kathmandu</td>\n",
       "      <td>130000000</td>\n",
       "      <td>3.0</td>\n",
       "      <td>West</td>\n",
       "      <td>10.2500</td>\n",
       "      <td>20.0</td>\n",
       "      <td>Blacktopped</td>\n",
       "    </tr>\n",
       "    <tr>\n",
       "      <th>4</th>\n",
       "      <td>Kathmandu</td>\n",
       "      <td>100000000</td>\n",
       "      <td>2.0</td>\n",
       "      <td>East</td>\n",
       "      <td>19.5000</td>\n",
       "      <td>20.0</td>\n",
       "      <td>Blacktopped</td>\n",
       "    </tr>\n",
       "    <tr>\n",
       "      <th>5</th>\n",
       "      <td>Kathmandu</td>\n",
       "      <td>100000000</td>\n",
       "      <td>3.0</td>\n",
       "      <td>East</td>\n",
       "      <td>12.8125</td>\n",
       "      <td>13.0</td>\n",
       "      <td>Blacktopped</td>\n",
       "    </tr>\n",
       "    <tr>\n",
       "      <th>6</th>\n",
       "      <td>Lalitpur</td>\n",
       "      <td>11000000</td>\n",
       "      <td>3.0</td>\n",
       "      <td>South East</td>\n",
       "      <td>3.3125</td>\n",
       "      <td>11.0</td>\n",
       "      <td>Gravelled</td>\n",
       "    </tr>\n",
       "    <tr>\n",
       "      <th>7</th>\n",
       "      <td>Kathmandu</td>\n",
       "      <td>50000000</td>\n",
       "      <td>2.0</td>\n",
       "      <td>East</td>\n",
       "      <td>9.2500</td>\n",
       "      <td>20.0</td>\n",
       "      <td>Blacktopped</td>\n",
       "    </tr>\n",
       "    <tr>\n",
       "      <th>8</th>\n",
       "      <td>Kathmandu</td>\n",
       "      <td>100000000</td>\n",
       "      <td>3.5</td>\n",
       "      <td>North</td>\n",
       "      <td>12.8750</td>\n",
       "      <td>20.0</td>\n",
       "      <td>Blacktopped</td>\n",
       "    </tr>\n",
       "    <tr>\n",
       "      <th>9</th>\n",
       "      <td>Kathmandu</td>\n",
       "      <td>32500000</td>\n",
       "      <td>2.5</td>\n",
       "      <td>South East</td>\n",
       "      <td>4.0000</td>\n",
       "      <td>12.0</td>\n",
       "      <td>Concrete</td>\n",
       "    </tr>\n",
       "  </tbody>\n",
       "</table>\n",
       "</div>"
      ],
      "text/plain": [
       "        City      Price  Floors        Face     Area  Road Width     Road Type\n",
       "0  Kathmandu   90000000     2.0        West  16.0000        20.0   Blacktopped\n",
       "1  Kathmandu   80000000     2.0        East  21.0000        20.0   Blacktopped\n",
       "2  Kathmandu   70000000     2.0        East  17.0000        20.0   Blacktopped\n",
       "3  Kathmandu  130000000     3.0        West  10.2500        20.0   Blacktopped\n",
       "4  Kathmandu  100000000     2.0        East  19.5000        20.0   Blacktopped\n",
       "5  Kathmandu  100000000     3.0        East  12.8125        13.0   Blacktopped\n",
       "6   Lalitpur   11000000     3.0  South East   3.3125        11.0     Gravelled\n",
       "7  Kathmandu   50000000     2.0        East   9.2500        20.0   Blacktopped\n",
       "8  Kathmandu  100000000     3.5       North  12.8750        20.0   Blacktopped\n",
       "9  Kathmandu   32500000     2.5  South East   4.0000        12.0      Concrete"
      ]
     },
     "execution_count": 78,
     "metadata": {},
     "output_type": "execute_result"
    }
   ],
   "source": [
    "df3.head(10)"
   ]
  },
  {
   "cell_type": "code",
   "execution_count": 79,
   "metadata": {
    "colab": {
     "base_uri": "https://localhost:8080/"
    },
    "executionInfo": {
     "elapsed": 460,
     "status": "ok",
     "timestamp": 1727938860822,
     "user": {
      "displayName": "biplov belbase",
      "userId": "02095037767289247533"
     },
     "user_tz": -345
    },
    "id": "J1NrNNPqWyu9",
    "outputId": "e15a604c-2135-40f9-b7ae-1afe735556d1"
   },
   "outputs": [
    {
     "data": {
      "text/plain": [
       "array([' Blacktopped', ' Gravelled', ' Concrete', ' Paved', nan,\n",
       "       ' Soil Stabilized', ' Alley'], dtype=object)"
      ]
     },
     "execution_count": 79,
     "metadata": {},
     "output_type": "execute_result"
    }
   ],
   "source": [
    "df3[\"Road Type\"].unique()"
   ]
  },
  {
   "cell_type": "code",
   "execution_count": 80,
   "metadata": {
    "executionInfo": {
     "elapsed": 2,
     "status": "ok",
     "timestamp": 1727938862186,
     "user": {
      "displayName": "biplov belbase",
      "userId": "02095037767289247533"
     },
     "user_tz": -345
    },
    "id": "Ee3UdEg1XZ8x"
   },
   "outputs": [],
   "source": [
    "df4=df3.loc[~df3['Road Type'].isin([' Alley'])]"
   ]
  },
  {
   "cell_type": "code",
   "execution_count": 81,
   "metadata": {
    "colab": {
     "base_uri": "https://localhost:8080/"
    },
    "executionInfo": {
     "elapsed": 438,
     "status": "ok",
     "timestamp": 1727938864799,
     "user": {
      "displayName": "biplov belbase",
      "userId": "02095037767289247533"
     },
     "user_tz": -345
    },
    "id": "kat0uQKSYuAD",
    "outputId": "5a55e965-0afb-4a5f-b6bf-63a68d46b8e1"
   },
   "outputs": [
    {
     "name": "stderr",
     "output_type": "stream",
     "text": [
      "C:\\Windows\\Temp\\ipykernel_1464\\3805244281.py:2: SettingWithCopyWarning: \n",
      "A value is trying to be set on a copy of a slice from a DataFrame.\n",
      "Try using .loc[row_indexer,col_indexer] = value instead\n",
      "\n",
      "See the caveats in the documentation: https://pandas.pydata.org/pandas-docs/stable/user_guide/indexing.html#returning-a-view-versus-a-copy\n",
      "  df4['Road Type'] = df4['Road Type'].fillna(' Soil Stabilized')\n"
     ]
    }
   ],
   "source": [
    "df4.loc[df4['Road Type'].isin([' Paved', ' Concrete']), 'Road Type'] = 'Blacktopped'\n",
    "df4['Road Type'] = df4['Road Type'].fillna(' Soil Stabilized')"
   ]
  },
  {
   "cell_type": "code",
   "execution_count": 82,
   "metadata": {
    "colab": {
     "base_uri": "https://localhost:8080/"
    },
    "executionInfo": {
     "elapsed": 438,
     "status": "ok",
     "timestamp": 1727938868968,
     "user": {
      "displayName": "biplov belbase",
      "userId": "02095037767289247533"
     },
     "user_tz": -345
    },
    "id": "xe02Lp_6e44W",
    "outputId": "c2594b52-3341-467b-a62d-f32afc6265b6"
   },
   "outputs": [
    {
     "name": "stderr",
     "output_type": "stream",
     "text": [
      "C:\\Windows\\Temp\\ipykernel_1464\\388227776.py:1: SettingWithCopyWarning: \n",
      "A value is trying to be set on a copy of a slice from a DataFrame.\n",
      "Try using .loc[row_indexer,col_indexer] = value instead\n",
      "\n",
      "See the caveats in the documentation: https://pandas.pydata.org/pandas-docs/stable/user_guide/indexing.html#returning-a-view-versus-a-copy\n",
      "  df4['Road Type'] = df4['Road Type'].str.strip()\n"
     ]
    }
   ],
   "source": [
    "df4['Road Type'] = df4['Road Type'].str.strip()"
   ]
  },
  {
   "cell_type": "code",
   "execution_count": 83,
   "metadata": {
    "colab": {
     "base_uri": "https://localhost:8080/",
     "height": 209
    },
    "executionInfo": {
     "elapsed": 454,
     "status": "ok",
     "timestamp": 1727938872741,
     "user": {
      "displayName": "biplov belbase",
      "userId": "02095037767289247533"
     },
     "user_tz": -345
    },
    "id": "z_Yp-04XfENi",
    "outputId": "ea49e019-b8cf-4992-f05e-ab44dce22a19"
   },
   "outputs": [
    {
     "data": {
      "text/plain": [
       "Road Type\n",
       "Soil Stabilized    846\n",
       "Blacktopped        746\n",
       "Gravelled          341\n",
       "Name: count, dtype: int64"
      ]
     },
     "execution_count": 83,
     "metadata": {},
     "output_type": "execute_result"
    }
   ],
   "source": [
    "df4['Road Type'].value_counts()"
   ]
  },
  {
   "cell_type": "code",
   "execution_count": 84,
   "metadata": {
    "colab": {
     "base_uri": "https://localhost:8080/"
    },
    "executionInfo": {
     "elapsed": 441,
     "status": "ok",
     "timestamp": 1727938878471,
     "user": {
      "displayName": "biplov belbase",
      "userId": "02095037767289247533"
     },
     "user_tz": -345
    },
    "id": "fK_nTHzolceY",
    "outputId": "3719f61b-31dd-4efc-a2c1-e99c7fcd40dd"
   },
   "outputs": [
    {
     "data": {
      "text/plain": [
       "2.89330835117773"
      ]
     },
     "execution_count": 84,
     "metadata": {},
     "output_type": "execute_result"
    }
   ],
   "source": [
    "df4['Floors'].mean()"
   ]
  },
  {
   "cell_type": "code",
   "execution_count": 85,
   "metadata": {
    "colab": {
     "base_uri": "https://localhost:8080/"
    },
    "executionInfo": {
     "elapsed": 537,
     "status": "ok",
     "timestamp": 1727938883715,
     "user": {
      "displayName": "biplov belbase",
      "userId": "02095037767289247533"
     },
     "user_tz": -345
    },
    "id": "dsPhk8j8m4sn",
    "outputId": "98a62293-68c4-4c42-9f05-5ea6192e9776"
   },
   "outputs": [
    {
     "name": "stderr",
     "output_type": "stream",
     "text": [
      "C:\\Windows\\Temp\\ipykernel_1464\\1291682311.py:1: SettingWithCopyWarning: \n",
      "A value is trying to be set on a copy of a slice from a DataFrame.\n",
      "Try using .loc[row_indexer,col_indexer] = value instead\n",
      "\n",
      "See the caveats in the documentation: https://pandas.pydata.org/pandas-docs/stable/user_guide/indexing.html#returning-a-view-versus-a-copy\n",
      "  df4['Floors'] = df4['Floors'].fillna(2.75)\n"
     ]
    }
   ],
   "source": [
    "df4['Floors'] = df4['Floors'].fillna(2.75)"
   ]
  },
  {
   "cell_type": "code",
   "execution_count": 86,
   "metadata": {
    "colab": {
     "base_uri": "https://localhost:8080/",
     "height": 303
    },
    "executionInfo": {
     "elapsed": 422,
     "status": "ok",
     "timestamp": 1727938887005,
     "user": {
      "displayName": "biplov belbase",
      "userId": "02095037767289247533"
     },
     "user_tz": -345
    },
    "id": "wLMiS4ainZrZ",
    "outputId": "4df2f971-f8cd-4aba-a364-07f329244e32"
   },
   "outputs": [
    {
     "data": {
      "text/plain": [
       "City          0\n",
       "Price         0\n",
       "Floors        0\n",
       "Face          0\n",
       "Area          0\n",
       "Road Width    0\n",
       "Road Type     0\n",
       "dtype: int64"
      ]
     },
     "execution_count": 86,
     "metadata": {},
     "output_type": "execute_result"
    }
   ],
   "source": [
    "df4.isna().sum()"
   ]
  },
  {
   "cell_type": "code",
   "execution_count": 87,
   "metadata": {
    "executionInfo": {
     "elapsed": 859,
     "status": "ok",
     "timestamp": 1727938892255,
     "user": {
      "displayName": "biplov belbase",
      "userId": "02095037767289247533"
     },
     "user_tz": -345
    },
    "id": "sjyWGQbAqcvD"
   },
   "outputs": [],
   "source": [
    "df4.to_csv('CleanedData1.csv', index=False)"
   ]
  },
  {
   "cell_type": "code",
   "execution_count": 88,
   "metadata": {
    "executionInfo": {
     "elapsed": 2,
     "status": "ok",
     "timestamp": 1727938893529,
     "user": {
      "displayName": "biplov belbase",
      "userId": "02095037767289247533"
     },
     "user_tz": -345
    },
    "id": "pvQ-FcuZsBB4"
   },
   "outputs": [],
   "source": [
    "df4 = pd.read_csv('CleanedData1.csv')"
   ]
  },
  {
   "cell_type": "code",
   "execution_count": 89,
   "metadata": {
    "executionInfo": {
     "elapsed": 444,
     "status": "ok",
     "timestamp": 1727938895388,
     "user": {
      "displayName": "biplov belbase",
      "userId": "02095037767289247533"
     },
     "user_tz": -345
    },
    "id": "Cy8T9t9Bo_T-"
   },
   "outputs": [],
   "source": [
    "df4 = df4[(df4['Price'] >=10000000 ) & (df4['Price'] <=100000000 )]"
   ]
  },
  {
   "cell_type": "code",
   "execution_count": 90,
   "metadata": {
    "colab": {
     "base_uri": "https://localhost:8080/",
     "height": 564
    },
    "executionInfo": {
     "elapsed": 974,
     "status": "ok",
     "timestamp": 1727938901327,
     "user": {
      "displayName": "biplov belbase",
      "userId": "02095037767289247533"
     },
     "user_tz": -345
    },
    "id": "C_G4eSZanlCa",
    "outputId": "8a18ab59-1e8d-464a-b16b-423f3b8b44da"
   },
   "outputs": [
    {
     "data": {
      "image/png": "[encoded data removed]",
      "text/plain": [
       "<Figure size 800x600 with 1 Axes>"
      ]
     },
     "metadata": {},
     "output_type": "display_data"
    }
   ],
   "source": [
    "plt.figure(figsize=(8, 6))\n",
    "df4['Price'].plot(kind='line')\n",
    "\n",
    "# Add labels and title\n",
    "plt.title('Line Plot of Price')\n",
    "plt.xlabel('Index')\n",
    "plt.ylabel('Price in Rupees')\n",
    "\n",
    "# Show the plot\n",
    "plt.show()"
   ]
  },
  {
   "cell_type": "code",
   "execution_count": 91,
   "metadata": {
    "executionInfo": {
     "elapsed": 439,
     "status": "ok",
     "timestamp": 1727938904469,
     "user": {
      "displayName": "biplov belbase",
      "userId": "02095037767289247533"
     },
     "user_tz": -345
    },
    "id": "VJtYlColAb0x"
   },
   "outputs": [],
   "source": [
    "df4.reset_index(drop=True, inplace=True)"
   ]
  },
  {
   "cell_type": "code",
   "execution_count": 92,
   "metadata": {
    "colab": {
     "base_uri": "https://localhost:8080/"
    },
    "executionInfo": {
     "elapsed": 462,
     "status": "ok",
     "timestamp": 1727938906164,
     "user": {
      "displayName": "biplov belbase",
      "userId": "02095037767289247533"
     },
     "user_tz": -345
    },
    "id": "J98GTbJzEBDq",
    "outputId": "7a834b8e-ac46-4f1b-8b17-1800614a9b3c"
   },
   "outputs": [
    {
     "data": {
      "text/plain": [
       "(915, 7)"
      ]
     },
     "execution_count": 92,
     "metadata": {},
     "output_type": "execute_result"
    }
   ],
   "source": [
    "df4.shape"
   ]
  },
  {
   "cell_type": "code",
   "execution_count": 93,
   "metadata": {
    "colab": {
     "base_uri": "https://localhost:8080/"
    },
    "executionInfo": {
     "elapsed": 2,
     "status": "ok",
     "timestamp": 1727938907462,
     "user": {
      "displayName": "biplov belbase",
      "userId": "02095037767289247533"
     },
     "user_tz": -345
    },
    "id": "g7hM_rKwo0k6",
    "outputId": "b52a30bb-f60d-4bf5-ee45-5d80941e8580"
   },
   "outputs": [
    {
     "name": "stdout",
     "output_type": "stream",
     "text": [
      "RangeIndex(start=0, stop=915, step=1)\n"
     ]
    }
   ],
   "source": [
    "print(df4.index)"
   ]
  },
  {
   "cell_type": "code",
   "execution_count": 94,
   "metadata": {
    "colab": {
     "base_uri": "https://localhost:8080/",
     "height": 206
    },
    "executionInfo": {
     "elapsed": 4,
     "status": "ok",
     "timestamp": 1727938909100,
     "user": {
      "displayName": "biplov belbase",
      "userId": "02095037767289247533"
     },
     "user_tz": -345
    },
    "id": "Nxjhdj5XBDoS",
    "outputId": "f6afce1c-62d3-402b-ca59-bedc330e27bf"
   },
   "outputs": [
    {
     "data": {
      "text/html": [
       "<div>\n",
       "<style scoped>\n",
       "    .dataframe tbody tr th:only-of-type {\n",
       "        vertical-align: middle;\n",
       "    }\n",
       "\n",
       "    .dataframe tbody tr th {\n",
       "        vertical-align: top;\n",
       "    }\n",
       "\n",
       "    .dataframe thead th {\n",
       "        text-align: right;\n",
       "    }\n",
       "</style>\n",
       "<table border=\"1\" class=\"dataframe\">\n",
       "  <thead>\n",
       "    <tr style=\"text-align: right;\">\n",
       "      <th></th>\n",
       "      <th>City</th>\n",
       "      <th>Price</th>\n",
       "      <th>Floors</th>\n",
       "      <th>Face</th>\n",
       "      <th>Area</th>\n",
       "      <th>Road Width</th>\n",
       "      <th>Road Type</th>\n",
       "    </tr>\n",
       "  </thead>\n",
       "  <tbody>\n",
       "    <tr>\n",
       "      <th>0</th>\n",
       "      <td>Kathmandu</td>\n",
       "      <td>90000000</td>\n",
       "      <td>2.0</td>\n",
       "      <td>West</td>\n",
       "      <td>16.0000</td>\n",
       "      <td>20.0</td>\n",
       "      <td>Blacktopped</td>\n",
       "    </tr>\n",
       "    <tr>\n",
       "      <th>1</th>\n",
       "      <td>Kathmandu</td>\n",
       "      <td>80000000</td>\n",
       "      <td>2.0</td>\n",
       "      <td>East</td>\n",
       "      <td>21.0000</td>\n",
       "      <td>20.0</td>\n",
       "      <td>Blacktopped</td>\n",
       "    </tr>\n",
       "    <tr>\n",
       "      <th>2</th>\n",
       "      <td>Kathmandu</td>\n",
       "      <td>70000000</td>\n",
       "      <td>2.0</td>\n",
       "      <td>East</td>\n",
       "      <td>17.0000</td>\n",
       "      <td>20.0</td>\n",
       "      <td>Blacktopped</td>\n",
       "    </tr>\n",
       "    <tr>\n",
       "      <th>3</th>\n",
       "      <td>Kathmandu</td>\n",
       "      <td>100000000</td>\n",
       "      <td>2.0</td>\n",
       "      <td>East</td>\n",
       "      <td>19.5000</td>\n",
       "      <td>20.0</td>\n",
       "      <td>Blacktopped</td>\n",
       "    </tr>\n",
       "    <tr>\n",
       "      <th>4</th>\n",
       "      <td>Kathmandu</td>\n",
       "      <td>100000000</td>\n",
       "      <td>3.0</td>\n",
       "      <td>East</td>\n",
       "      <td>12.8125</td>\n",
       "      <td>13.0</td>\n",
       "      <td>Blacktopped</td>\n",
       "    </tr>\n",
       "  </tbody>\n",
       "</table>\n",
       "</div>"
      ],
      "text/plain": [
       "        City      Price  Floors  Face     Area  Road Width    Road Type\n",
       "0  Kathmandu   90000000     2.0  West  16.0000        20.0  Blacktopped\n",
       "1  Kathmandu   80000000     2.0  East  21.0000        20.0  Blacktopped\n",
       "2  Kathmandu   70000000     2.0  East  17.0000        20.0  Blacktopped\n",
       "3  Kathmandu  100000000     2.0  East  19.5000        20.0  Blacktopped\n",
       "4  Kathmandu  100000000     3.0  East  12.8125        13.0  Blacktopped"
      ]
     },
     "execution_count": 94,
     "metadata": {},
     "output_type": "execute_result"
    }
   ],
   "source": [
    "df4.head()"
   ]
  },
  {
   "cell_type": "code",
   "execution_count": 95,
   "metadata": {
    "executionInfo": {
     "elapsed": 2,
     "status": "ok",
     "timestamp": 1727938910813,
     "user": {
      "displayName": "biplov belbase",
      "userId": "02095037767289247533"
     },
     "user_tz": -345
    },
    "id": "BkdVtGD1C8rI"
   },
   "outputs": [],
   "source": [
    "df4 = df4[~((df4['Price'] > 20000000) & (df4['Floors'] < 2) & (df4['Area'] < 4))]\n",
    "df4 = df4[~((df4['Price'] > 20000000) & (df4['Area'] < 2.5))]\n",
    "df4 = df4[~((df4['Price'] > 50000000) & (df4['Floors'] < 3) & (df4['Area'] < 5))]\n",
    "df4 = df4[~((df4['Price'] < 50000000) & (df4['Area'] > 15))]\n",
    "df4 = df4[~((df4['Price'] < 16000000) & (df4['Floors'] > 2.5))]"
   ]
  },
  {
   "cell_type": "code",
   "execution_count": 96,
   "metadata": {
    "colab": {
     "base_uri": "https://localhost:8080/"
    },
    "executionInfo": {
     "elapsed": 441,
     "status": "ok",
     "timestamp": 1727938914048,
     "user": {
      "displayName": "biplov belbase",
      "userId": "02095037767289247533"
     },
     "user_tz": -345
    },
    "id": "qTmsbs_yDucW",
    "outputId": "9041630c-e810-4c8a-ccc0-a75a2799669a"
   },
   "outputs": [
    {
     "data": {
      "text/plain": [
       "(809, 7)"
      ]
     },
     "execution_count": 96,
     "metadata": {},
     "output_type": "execute_result"
    }
   ],
   "source": [
    "df4.shape"
   ]
  },
  {
   "cell_type": "code",
   "execution_count": 97,
   "metadata": {
    "colab": {
     "base_uri": "https://localhost:8080/",
     "height": 1000
    },
    "executionInfo": {
     "elapsed": 12,
     "status": "ok",
     "timestamp": 1727938915410,
     "user": {
      "displayName": "biplov belbase",
      "userId": "02095037767289247533"
     },
     "user_tz": -345
    },
    "id": "4ljzdOciD1ID",
    "outputId": "7a8e3c29-85fd-4fb8-f8e1-1c5083c89616"
   },
   "outputs": [
    {
     "data": {
      "text/html": [
       "<div>\n",
       "<style scoped>\n",
       "    .dataframe tbody tr th:only-of-type {\n",
       "        vertical-align: middle;\n",
       "    }\n",
       "\n",
       "    .dataframe tbody tr th {\n",
       "        vertical-align: top;\n",
       "    }\n",
       "\n",
       "    .dataframe thead th {\n",
       "        text-align: right;\n",
       "    }\n",
       "</style>\n",
       "<table border=\"1\" class=\"dataframe\">\n",
       "  <thead>\n",
       "    <tr style=\"text-align: right;\">\n",
       "      <th></th>\n",
       "      <th>City</th>\n",
       "      <th>Price</th>\n",
       "      <th>Floors</th>\n",
       "      <th>Face</th>\n",
       "      <th>Area</th>\n",
       "      <th>Road Width</th>\n",
       "      <th>Road Type</th>\n",
       "    </tr>\n",
       "  </thead>\n",
       "  <tbody>\n",
       "    <tr>\n",
       "      <th>0</th>\n",
       "      <td>Kathmandu</td>\n",
       "      <td>90000000</td>\n",
       "      <td>2.00</td>\n",
       "      <td>West</td>\n",
       "      <td>16.0000</td>\n",
       "      <td>20.00000</td>\n",
       "      <td>Blacktopped</td>\n",
       "    </tr>\n",
       "    <tr>\n",
       "      <th>1</th>\n",
       "      <td>Kathmandu</td>\n",
       "      <td>80000000</td>\n",
       "      <td>2.00</td>\n",
       "      <td>East</td>\n",
       "      <td>21.0000</td>\n",
       "      <td>20.00000</td>\n",
       "      <td>Blacktopped</td>\n",
       "    </tr>\n",
       "    <tr>\n",
       "      <th>2</th>\n",
       "      <td>Kathmandu</td>\n",
       "      <td>70000000</td>\n",
       "      <td>2.00</td>\n",
       "      <td>East</td>\n",
       "      <td>17.0000</td>\n",
       "      <td>20.00000</td>\n",
       "      <td>Blacktopped</td>\n",
       "    </tr>\n",
       "    <tr>\n",
       "      <th>3</th>\n",
       "      <td>Kathmandu</td>\n",
       "      <td>100000000</td>\n",
       "      <td>2.00</td>\n",
       "      <td>East</td>\n",
       "      <td>19.5000</td>\n",
       "      <td>20.00000</td>\n",
       "      <td>Blacktopped</td>\n",
       "    </tr>\n",
       "    <tr>\n",
       "      <th>4</th>\n",
       "      <td>Kathmandu</td>\n",
       "      <td>100000000</td>\n",
       "      <td>3.00</td>\n",
       "      <td>East</td>\n",
       "      <td>12.8125</td>\n",
       "      <td>13.00000</td>\n",
       "      <td>Blacktopped</td>\n",
       "    </tr>\n",
       "    <tr>\n",
       "      <th>6</th>\n",
       "      <td>Kathmandu</td>\n",
       "      <td>50000000</td>\n",
       "      <td>2.00</td>\n",
       "      <td>East</td>\n",
       "      <td>9.2500</td>\n",
       "      <td>20.00000</td>\n",
       "      <td>Blacktopped</td>\n",
       "    </tr>\n",
       "    <tr>\n",
       "      <th>7</th>\n",
       "      <td>Kathmandu</td>\n",
       "      <td>100000000</td>\n",
       "      <td>3.50</td>\n",
       "      <td>North</td>\n",
       "      <td>12.8750</td>\n",
       "      <td>20.00000</td>\n",
       "      <td>Blacktopped</td>\n",
       "    </tr>\n",
       "    <tr>\n",
       "      <th>8</th>\n",
       "      <td>Kathmandu</td>\n",
       "      <td>32500000</td>\n",
       "      <td>2.50</td>\n",
       "      <td>South East</td>\n",
       "      <td>4.0000</td>\n",
       "      <td>12.00000</td>\n",
       "      <td>Blacktopped</td>\n",
       "    </tr>\n",
       "    <tr>\n",
       "      <th>9</th>\n",
       "      <td>Kathmandu</td>\n",
       "      <td>39900000</td>\n",
       "      <td>3.00</td>\n",
       "      <td>North West</td>\n",
       "      <td>4.5000</td>\n",
       "      <td>14.00000</td>\n",
       "      <td>Blacktopped</td>\n",
       "    </tr>\n",
       "    <tr>\n",
       "      <th>10</th>\n",
       "      <td>Kathmandu</td>\n",
       "      <td>15000000</td>\n",
       "      <td>1.00</td>\n",
       "      <td>South</td>\n",
       "      <td>5.0000</td>\n",
       "      <td>12.00000</td>\n",
       "      <td>Gravelled</td>\n",
       "    </tr>\n",
       "    <tr>\n",
       "      <th>11</th>\n",
       "      <td>Kathmandu</td>\n",
       "      <td>52500000</td>\n",
       "      <td>3.00</td>\n",
       "      <td>South East</td>\n",
       "      <td>8.0000</td>\n",
       "      <td>20.00000</td>\n",
       "      <td>Blacktopped</td>\n",
       "    </tr>\n",
       "    <tr>\n",
       "      <th>12</th>\n",
       "      <td>Kathmandu</td>\n",
       "      <td>26500000</td>\n",
       "      <td>3.00</td>\n",
       "      <td>East</td>\n",
       "      <td>4.0000</td>\n",
       "      <td>13.00000</td>\n",
       "      <td>Blacktopped</td>\n",
       "    </tr>\n",
       "    <tr>\n",
       "      <th>13</th>\n",
       "      <td>Kathmandu</td>\n",
       "      <td>25500000</td>\n",
       "      <td>3.00</td>\n",
       "      <td>East</td>\n",
       "      <td>4.0000</td>\n",
       "      <td>13.00000</td>\n",
       "      <td>Gravelled</td>\n",
       "    </tr>\n",
       "    <tr>\n",
       "      <th>14</th>\n",
       "      <td>Kathmandu</td>\n",
       "      <td>33000000</td>\n",
       "      <td>2.50</td>\n",
       "      <td>East</td>\n",
       "      <td>6.0000</td>\n",
       "      <td>20.00000</td>\n",
       "      <td>Blacktopped</td>\n",
       "    </tr>\n",
       "    <tr>\n",
       "      <th>15</th>\n",
       "      <td>Kathmandu</td>\n",
       "      <td>18500000</td>\n",
       "      <td>2.75</td>\n",
       "      <td>South</td>\n",
       "      <td>6.0000</td>\n",
       "      <td>13.00000</td>\n",
       "      <td>Soil Stabilized</td>\n",
       "    </tr>\n",
       "    <tr>\n",
       "      <th>16</th>\n",
       "      <td>Kathmandu</td>\n",
       "      <td>62000000</td>\n",
       "      <td>2.75</td>\n",
       "      <td>East</td>\n",
       "      <td>10.0000</td>\n",
       "      <td>0.00000</td>\n",
       "      <td>Soil Stabilized</td>\n",
       "    </tr>\n",
       "    <tr>\n",
       "      <th>18</th>\n",
       "      <td>Bhaktapur</td>\n",
       "      <td>20500000</td>\n",
       "      <td>3.00</td>\n",
       "      <td>East</td>\n",
       "      <td>3.5000</td>\n",
       "      <td>10.00000</td>\n",
       "      <td>Gravelled</td>\n",
       "    </tr>\n",
       "    <tr>\n",
       "      <th>19</th>\n",
       "      <td>Bhaktapur</td>\n",
       "      <td>22000000</td>\n",
       "      <td>2.75</td>\n",
       "      <td>East</td>\n",
       "      <td>3.5000</td>\n",
       "      <td>20.00000</td>\n",
       "      <td>Blacktopped</td>\n",
       "    </tr>\n",
       "    <tr>\n",
       "      <th>20</th>\n",
       "      <td>Kathmandu</td>\n",
       "      <td>55000000</td>\n",
       "      <td>3.00</td>\n",
       "      <td>South</td>\n",
       "      <td>19.0000</td>\n",
       "      <td>20.00000</td>\n",
       "      <td>Gravelled</td>\n",
       "    </tr>\n",
       "    <tr>\n",
       "      <th>21</th>\n",
       "      <td>Kathmandu</td>\n",
       "      <td>24000000</td>\n",
       "      <td>2.50</td>\n",
       "      <td>East</td>\n",
       "      <td>4.0000</td>\n",
       "      <td>13.00000</td>\n",
       "      <td>Blacktopped</td>\n",
       "    </tr>\n",
       "    <tr>\n",
       "      <th>22</th>\n",
       "      <td>Kathmandu</td>\n",
       "      <td>37000000</td>\n",
       "      <td>3.00</td>\n",
       "      <td>South East</td>\n",
       "      <td>6.1000</td>\n",
       "      <td>32.00000</td>\n",
       "      <td>Soil Stabilized</td>\n",
       "    </tr>\n",
       "    <tr>\n",
       "      <th>23</th>\n",
       "      <td>Lalitpur</td>\n",
       "      <td>22000000</td>\n",
       "      <td>3.50</td>\n",
       "      <td>South</td>\n",
       "      <td>4.5000</td>\n",
       "      <td>13.00000</td>\n",
       "      <td>Gravelled</td>\n",
       "    </tr>\n",
       "    <tr>\n",
       "      <th>24</th>\n",
       "      <td>Kathmandu</td>\n",
       "      <td>58500000</td>\n",
       "      <td>3.00</td>\n",
       "      <td>East</td>\n",
       "      <td>6.5000</td>\n",
       "      <td>16.00000</td>\n",
       "      <td>Blacktopped</td>\n",
       "    </tr>\n",
       "    <tr>\n",
       "      <th>25</th>\n",
       "      <td>Lalitpur</td>\n",
       "      <td>18500000</td>\n",
       "      <td>2.50</td>\n",
       "      <td>East</td>\n",
       "      <td>3.0000</td>\n",
       "      <td>13.00000</td>\n",
       "      <td>Gravelled</td>\n",
       "    </tr>\n",
       "    <tr>\n",
       "      <th>26</th>\n",
       "      <td>Lalitpur</td>\n",
       "      <td>21000000</td>\n",
       "      <td>2.50</td>\n",
       "      <td>East</td>\n",
       "      <td>3.5000</td>\n",
       "      <td>13.00000</td>\n",
       "      <td>Gravelled</td>\n",
       "    </tr>\n",
       "    <tr>\n",
       "      <th>27</th>\n",
       "      <td>Lalitpur</td>\n",
       "      <td>17500000</td>\n",
       "      <td>3.00</td>\n",
       "      <td>South</td>\n",
       "      <td>3.1250</td>\n",
       "      <td>13.00000</td>\n",
       "      <td>Soil Stabilized</td>\n",
       "    </tr>\n",
       "    <tr>\n",
       "      <th>28</th>\n",
       "      <td>Kathmandu</td>\n",
       "      <td>40000000</td>\n",
       "      <td>4.00</td>\n",
       "      <td>East</td>\n",
       "      <td>7.0000</td>\n",
       "      <td>15.00000</td>\n",
       "      <td>Blacktopped</td>\n",
       "    </tr>\n",
       "    <tr>\n",
       "      <th>29</th>\n",
       "      <td>Kathmandu</td>\n",
       "      <td>26500000</td>\n",
       "      <td>3.00</td>\n",
       "      <td>West</td>\n",
       "      <td>5.0000</td>\n",
       "      <td>14.00000</td>\n",
       "      <td>Blacktopped</td>\n",
       "    </tr>\n",
       "    <tr>\n",
       "      <th>30</th>\n",
       "      <td>Kathmandu</td>\n",
       "      <td>22500000</td>\n",
       "      <td>3.00</td>\n",
       "      <td>North East</td>\n",
       "      <td>3.1000</td>\n",
       "      <td>18.00000</td>\n",
       "      <td>Blacktopped</td>\n",
       "    </tr>\n",
       "    <tr>\n",
       "      <th>31</th>\n",
       "      <td>Kathmandu</td>\n",
       "      <td>60000000</td>\n",
       "      <td>3.00</td>\n",
       "      <td>South East</td>\n",
       "      <td>11.0000</td>\n",
       "      <td>15.00000</td>\n",
       "      <td>Soil Stabilized</td>\n",
       "    </tr>\n",
       "    <tr>\n",
       "      <th>32</th>\n",
       "      <td>Kathmandu</td>\n",
       "      <td>40000000</td>\n",
       "      <td>4.00</td>\n",
       "      <td>East</td>\n",
       "      <td>9.0000</td>\n",
       "      <td>13.00000</td>\n",
       "      <td>Blacktopped</td>\n",
       "    </tr>\n",
       "    <tr>\n",
       "      <th>33</th>\n",
       "      <td>Kathmandu</td>\n",
       "      <td>30000000</td>\n",
       "      <td>3.00</td>\n",
       "      <td>East</td>\n",
       "      <td>3.5000</td>\n",
       "      <td>15.00000</td>\n",
       "      <td>Blacktopped</td>\n",
       "    </tr>\n",
       "    <tr>\n",
       "      <th>34</th>\n",
       "      <td>Kathmandu</td>\n",
       "      <td>65000000</td>\n",
       "      <td>3.00</td>\n",
       "      <td>East</td>\n",
       "      <td>12.0000</td>\n",
       "      <td>14.00000</td>\n",
       "      <td>Gravelled</td>\n",
       "    </tr>\n",
       "    <tr>\n",
       "      <th>35</th>\n",
       "      <td>Kathmandu</td>\n",
       "      <td>33000000</td>\n",
       "      <td>3.00</td>\n",
       "      <td>North</td>\n",
       "      <td>5.0000</td>\n",
       "      <td>13.00000</td>\n",
       "      <td>Blacktopped</td>\n",
       "    </tr>\n",
       "    <tr>\n",
       "      <th>36</th>\n",
       "      <td>Kathmandu</td>\n",
       "      <td>30500000</td>\n",
       "      <td>2.00</td>\n",
       "      <td>West</td>\n",
       "      <td>4.0000</td>\n",
       "      <td>13.00000</td>\n",
       "      <td>Blacktopped</td>\n",
       "    </tr>\n",
       "    <tr>\n",
       "      <th>37</th>\n",
       "      <td>Kathmandu</td>\n",
       "      <td>28000000</td>\n",
       "      <td>3.00</td>\n",
       "      <td>South East</td>\n",
       "      <td>4.0000</td>\n",
       "      <td>13.00000</td>\n",
       "      <td>Blacktopped</td>\n",
       "    </tr>\n",
       "    <tr>\n",
       "      <th>38</th>\n",
       "      <td>Kathmandu</td>\n",
       "      <td>41000000</td>\n",
       "      <td>4.00</td>\n",
       "      <td>South East</td>\n",
       "      <td>4.0000</td>\n",
       "      <td>26.00000</td>\n",
       "      <td>Blacktopped</td>\n",
       "    </tr>\n",
       "    <tr>\n",
       "      <th>39</th>\n",
       "      <td>Kathmandu</td>\n",
       "      <td>27000000</td>\n",
       "      <td>3.00</td>\n",
       "      <td>East</td>\n",
       "      <td>4.5000</td>\n",
       "      <td>14.00000</td>\n",
       "      <td>Gravelled</td>\n",
       "    </tr>\n",
       "    <tr>\n",
       "      <th>40</th>\n",
       "      <td>Kathmandu</td>\n",
       "      <td>22000000</td>\n",
       "      <td>3.00</td>\n",
       "      <td>East</td>\n",
       "      <td>3.1000</td>\n",
       "      <td>13.00000</td>\n",
       "      <td>Soil Stabilized</td>\n",
       "    </tr>\n",
       "    <tr>\n",
       "      <th>41</th>\n",
       "      <td>Kathmandu</td>\n",
       "      <td>37000000</td>\n",
       "      <td>3.00</td>\n",
       "      <td>South East</td>\n",
       "      <td>8.0000</td>\n",
       "      <td>15.00000</td>\n",
       "      <td>Blacktopped</td>\n",
       "    </tr>\n",
       "    <tr>\n",
       "      <th>42</th>\n",
       "      <td>Kathmandu</td>\n",
       "      <td>46000000</td>\n",
       "      <td>2.50</td>\n",
       "      <td>South West</td>\n",
       "      <td>6.7500</td>\n",
       "      <td>13.00000</td>\n",
       "      <td>Blacktopped</td>\n",
       "    </tr>\n",
       "    <tr>\n",
       "      <th>43</th>\n",
       "      <td>Kathmandu</td>\n",
       "      <td>22500000</td>\n",
       "      <td>3.00</td>\n",
       "      <td>East</td>\n",
       "      <td>4.0000</td>\n",
       "      <td>13.00000</td>\n",
       "      <td>Soil Stabilized</td>\n",
       "    </tr>\n",
       "    <tr>\n",
       "      <th>44</th>\n",
       "      <td>Bhaktapur</td>\n",
       "      <td>29000000</td>\n",
       "      <td>2.00</td>\n",
       "      <td>North</td>\n",
       "      <td>4.5000</td>\n",
       "      <td>20.00000</td>\n",
       "      <td>Blacktopped</td>\n",
       "    </tr>\n",
       "    <tr>\n",
       "      <th>45</th>\n",
       "      <td>Kathmandu</td>\n",
       "      <td>31000000</td>\n",
       "      <td>3.00</td>\n",
       "      <td>East</td>\n",
       "      <td>3.0000</td>\n",
       "      <td>19.68504</td>\n",
       "      <td>Blacktopped</td>\n",
       "    </tr>\n",
       "    <tr>\n",
       "      <th>46</th>\n",
       "      <td>Kathmandu</td>\n",
       "      <td>42500000</td>\n",
       "      <td>2.75</td>\n",
       "      <td>West</td>\n",
       "      <td>5.3125</td>\n",
       "      <td>29.00000</td>\n",
       "      <td>Soil Stabilized</td>\n",
       "    </tr>\n",
       "    <tr>\n",
       "      <th>47</th>\n",
       "      <td>Kathmandu</td>\n",
       "      <td>37500000</td>\n",
       "      <td>3.00</td>\n",
       "      <td>South East</td>\n",
       "      <td>5.0000</td>\n",
       "      <td>0.00000</td>\n",
       "      <td>Soil Stabilized</td>\n",
       "    </tr>\n",
       "    <tr>\n",
       "      <th>48</th>\n",
       "      <td>Kathmandu</td>\n",
       "      <td>80000000</td>\n",
       "      <td>2.75</td>\n",
       "      <td>West</td>\n",
       "      <td>9.9375</td>\n",
       "      <td>13.00000</td>\n",
       "      <td>Gravelled</td>\n",
       "    </tr>\n",
       "    <tr>\n",
       "      <th>49</th>\n",
       "      <td>Lalitpur</td>\n",
       "      <td>25000000</td>\n",
       "      <td>2.00</td>\n",
       "      <td>East</td>\n",
       "      <td>4.5000</td>\n",
       "      <td>13.00000</td>\n",
       "      <td>Gravelled</td>\n",
       "    </tr>\n",
       "    <tr>\n",
       "      <th>50</th>\n",
       "      <td>Bhaktapur</td>\n",
       "      <td>32500000</td>\n",
       "      <td>2.00</td>\n",
       "      <td>South</td>\n",
       "      <td>7.0000</td>\n",
       "      <td>20.00000</td>\n",
       "      <td>Blacktopped</td>\n",
       "    </tr>\n",
       "    <tr>\n",
       "      <th>52</th>\n",
       "      <td>Kathmandu</td>\n",
       "      <td>20000000</td>\n",
       "      <td>2.50</td>\n",
       "      <td>West</td>\n",
       "      <td>4.3125</td>\n",
       "      <td>10.00000</td>\n",
       "      <td>Gravelled</td>\n",
       "    </tr>\n",
       "  </tbody>\n",
       "</table>\n",
       "</div>"
      ],
      "text/plain": [
       "         City      Price  Floors        Face     Area  Road Width  \\\n",
       "0   Kathmandu   90000000    2.00        West  16.0000    20.00000   \n",
       "1   Kathmandu   80000000    2.00        East  21.0000    20.00000   \n",
       "2   Kathmandu   70000000    2.00        East  17.0000    20.00000   \n",
       "3   Kathmandu  100000000    2.00        East  19.5000    20.00000   \n",
       "4   Kathmandu  100000000    3.00        East  12.8125    13.00000   \n",
       "6   Kathmandu   50000000    2.00        East   9.2500    20.00000   \n",
       "7   Kathmandu  100000000    3.50       North  12.8750    20.00000   \n",
       "8   Kathmandu   32500000    2.50  South East   4.0000    12.00000   \n",
       "9   Kathmandu   39900000    3.00  North West   4.5000    14.00000   \n",
       "10  Kathmandu   15000000    1.00       South   5.0000    12.00000   \n",
       "11  Kathmandu   52500000    3.00  South East   8.0000    20.00000   \n",
       "12  Kathmandu   26500000    3.00        East   4.0000    13.00000   \n",
       "13  Kathmandu   25500000    3.00        East   4.0000    13.00000   \n",
       "14  Kathmandu   33000000    2.50        East   6.0000    20.00000   \n",
       "15  Kathmandu   18500000    2.75       South   6.0000    13.00000   \n",
       "16  Kathmandu   62000000    2.75        East  10.0000     0.00000   \n",
       "18  Bhaktapur   20500000    3.00        East   3.5000    10.00000   \n",
       "19  Bhaktapur   22000000    2.75        East   3.5000    20.00000   \n",
       "20  Kathmandu   55000000    3.00       South  19.0000    20.00000   \n",
       "21  Kathmandu   24000000    2.50        East   4.0000    13.00000   \n",
       "22  Kathmandu   37000000    3.00  South East   6.1000    32.00000   \n",
       "23   Lalitpur   22000000    3.50       South   4.5000    13.00000   \n",
       "24  Kathmandu   58500000    3.00        East   6.5000    16.00000   \n",
       "25   Lalitpur   18500000    2.50        East   3.0000    13.00000   \n",
       "26   Lalitpur   21000000    2.50        East   3.5000    13.00000   \n",
       "27   Lalitpur   17500000    3.00       South   3.1250    13.00000   \n",
       "28  Kathmandu   40000000    4.00        East   7.0000    15.00000   \n",
       "29  Kathmandu   26500000    3.00        West   5.0000    14.00000   \n",
       "30  Kathmandu   22500000    3.00  North East   3.1000    18.00000   \n",
       "31  Kathmandu   60000000    3.00  South East  11.0000    15.00000   \n",
       "32  Kathmandu   40000000    4.00        East   9.0000    13.00000   \n",
       "33  Kathmandu   30000000    3.00        East   3.5000    15.00000   \n",
       "34  Kathmandu   65000000    3.00        East  12.0000    14.00000   \n",
       "35  Kathmandu   33000000    3.00       North   5.0000    13.00000   \n",
       "36  Kathmandu   30500000    2.00        West   4.0000    13.00000   \n",
       "37  Kathmandu   28000000    3.00  South East   4.0000    13.00000   \n",
       "38  Kathmandu   41000000    4.00  South East   4.0000    26.00000   \n",
       "39  Kathmandu   27000000    3.00        East   4.5000    14.00000   \n",
       "40  Kathmandu   22000000    3.00        East   3.1000    13.00000   \n",
       "41  Kathmandu   37000000    3.00  South East   8.0000    15.00000   \n",
       "42  Kathmandu   46000000    2.50  South West   6.7500    13.00000   \n",
       "43  Kathmandu   22500000    3.00        East   4.0000    13.00000   \n",
       "44  Bhaktapur   29000000    2.00       North   4.5000    20.00000   \n",
       "45  Kathmandu   31000000    3.00        East   3.0000    19.68504   \n",
       "46  Kathmandu   42500000    2.75        West   5.3125    29.00000   \n",
       "47  Kathmandu   37500000    3.00  South East   5.0000     0.00000   \n",
       "48  Kathmandu   80000000    2.75        West   9.9375    13.00000   \n",
       "49   Lalitpur   25000000    2.00        East   4.5000    13.00000   \n",
       "50  Bhaktapur   32500000    2.00       South   7.0000    20.00000   \n",
       "52  Kathmandu   20000000    2.50        West   4.3125    10.00000   \n",
       "\n",
       "          Road Type  \n",
       "0       Blacktopped  \n",
       "1       Blacktopped  \n",
       "2       Blacktopped  \n",
       "3       Blacktopped  \n",
       "4       Blacktopped  \n",
       "6       Blacktopped  \n",
       "7       Blacktopped  \n",
       "8       Blacktopped  \n",
       "9       Blacktopped  \n",
       "10        Gravelled  \n",
       "11      Blacktopped  \n",
       "12      Blacktopped  \n",
       "13        Gravelled  \n",
       "14      Blacktopped  \n",
       "15  Soil Stabilized  \n",
       "16  Soil Stabilized  \n",
       "18        Gravelled  \n",
       "19      Blacktopped  \n",
       "20        Gravelled  \n",
       "21      Blacktopped  \n",
       "22  Soil Stabilized  \n",
       "23        Gravelled  \n",
       "24      Blacktopped  \n",
       "25        Gravelled  \n",
       "26        Gravelled  \n",
       "27  Soil Stabilized  \n",
       "28      Blacktopped  \n",
       "29      Blacktopped  \n",
       "30      Blacktopped  \n",
       "31  Soil Stabilized  \n",
       "32      Blacktopped  \n",
       "33      Blacktopped  \n",
       "34        Gravelled  \n",
       "35      Blacktopped  \n",
       "36      Blacktopped  \n",
       "37      Blacktopped  \n",
       "38      Blacktopped  \n",
       "39        Gravelled  \n",
       "40  Soil Stabilized  \n",
       "41      Blacktopped  \n",
       "42      Blacktopped  \n",
       "43  Soil Stabilized  \n",
       "44      Blacktopped  \n",
       "45      Blacktopped  \n",
       "46  Soil Stabilized  \n",
       "47  Soil Stabilized  \n",
       "48        Gravelled  \n",
       "49        Gravelled  \n",
       "50      Blacktopped  \n",
       "52        Gravelled  "
      ]
     },
     "execution_count": 97,
     "metadata": {},
     "output_type": "execute_result"
    }
   ],
   "source": [
    "df4.head(50)"
   ]
  },
  {
   "cell_type": "code",
   "execution_count": 98,
   "metadata": {
    "executionInfo": {
     "elapsed": 2,
     "status": "ok",
     "timestamp": 1727938917153,
     "user": {
      "displayName": "biplov belbase",
      "userId": "02095037767289247533"
     },
     "user_tz": -345
    },
    "id": "Im8UEuv_FYUO"
   },
   "outputs": [],
   "source": [
    "df_perAana = pd.DataFrame({'Price_per_aana': df4['Price'] / df4['Area']})"
   ]
  },
  {
   "cell_type": "code",
   "execution_count": 99,
   "metadata": {
    "colab": {
     "base_uri": "https://localhost:8080/",
     "height": 206
    },
    "executionInfo": {
     "elapsed": 463,
     "status": "ok",
     "timestamp": 1727938918993,
     "user": {
      "displayName": "biplov belbase",
      "userId": "02095037767289247533"
     },
     "user_tz": -345
    },
    "id": "k4Zk0khhLk-l",
    "outputId": "c4e43e8f-daa2-4125-f24f-c0aaa274123d"
   },
   "outputs": [
    {
     "data": {
      "text/html": [
       "<div>\n",
       "<style scoped>\n",
       "    .dataframe tbody tr th:only-of-type {\n",
       "        vertical-align: middle;\n",
       "    }\n",
       "\n",
       "    .dataframe tbody tr th {\n",
       "        vertical-align: top;\n",
       "    }\n",
       "\n",
       "    .dataframe thead th {\n",
       "        text-align: right;\n",
       "    }\n",
       "</style>\n",
       "<table border=\"1\" class=\"dataframe\">\n",
       "  <thead>\n",
       "    <tr style=\"text-align: right;\">\n",
       "      <th></th>\n",
       "      <th>Price_per_aana</th>\n",
       "    </tr>\n",
       "  </thead>\n",
       "  <tbody>\n",
       "    <tr>\n",
       "      <th>0</th>\n",
       "      <td>5.625000e+06</td>\n",
       "    </tr>\n",
       "    <tr>\n",
       "      <th>1</th>\n",
       "      <td>3.809524e+06</td>\n",
       "    </tr>\n",
       "    <tr>\n",
       "      <th>2</th>\n",
       "      <td>4.117647e+06</td>\n",
       "    </tr>\n",
       "    <tr>\n",
       "      <th>3</th>\n",
       "      <td>5.128205e+06</td>\n",
       "    </tr>\n",
       "    <tr>\n",
       "      <th>4</th>\n",
       "      <td>7.804878e+06</td>\n",
       "    </tr>\n",
       "  </tbody>\n",
       "</table>\n",
       "</div>"
      ],
      "text/plain": [
       "   Price_per_aana\n",
       "0    5.625000e+06\n",
       "1    3.809524e+06\n",
       "2    4.117647e+06\n",
       "3    5.128205e+06\n",
       "4    7.804878e+06"
      ]
     },
     "execution_count": 99,
     "metadata": {},
     "output_type": "execute_result"
    }
   ],
   "source": [
    "df_perAana.head(5)"
   ]
  },
  {
   "cell_type": "code",
   "execution_count": 100,
   "metadata": {
    "executionInfo": {
     "elapsed": 2,
     "status": "ok",
     "timestamp": 1727938920516,
     "user": {
      "displayName": "biplov belbase",
      "userId": "02095037767289247533"
     },
     "user_tz": -345
    },
    "id": "YGffPlprNBff"
   },
   "outputs": [],
   "source": [
    "df_perAana.replace([float('inf'), -float('inf')], np.nan, inplace=True)\n",
    "df_perAana.dropna(inplace=True)"
   ]
  },
  {
   "cell_type": "code",
   "execution_count": 101,
   "metadata": {
    "colab": {
     "base_uri": "https://localhost:8080/"
    },
    "executionInfo": {
     "elapsed": 4,
     "status": "ok",
     "timestamp": 1727938921685,
     "user": {
      "displayName": "biplov belbase",
      "userId": "02095037767289247533"
     },
     "user_tz": -345
    },
    "id": "MOT4BsFsMeJ7",
    "outputId": "9ab959e8-1197-483b-c44d-6dd4d7e1a338"
   },
   "outputs": [
    {
     "name": "stdout",
     "output_type": "stream",
     "text": [
      "Number of NaN values: 0\n",
      "Number of infinite values: 0\n"
     ]
    }
   ],
   "source": [
    "# Check for NaN values\n",
    "nan_count = df_perAana['Price_per_aana'].isna().sum()\n",
    "print(f\"Number of NaN values: {nan_count}\")\n",
    "\n",
    "# Check for infinite values\n",
    "inf_count = (df_perAana['Price_per_aana'] == float('inf')).sum()\n",
    "print(f\"Number of infinite values: {inf_count}\")"
   ]
  },
  {
   "cell_type": "code",
   "execution_count": 102,
   "metadata": {
    "colab": {
     "base_uri": "https://localhost:8080/",
     "height": 564
    },
    "executionInfo": {
     "elapsed": 8,
     "status": "ok",
     "timestamp": 1727938923439,
     "user": {
      "displayName": "biplov belbase",
      "userId": "02095037767289247533"
     },
     "user_tz": -345
    },
    "id": "vplMAyONK7VP",
    "outputId": "fdfc1e02-51e2-4478-db95-03a13eb4fa4d"
   },
   "outputs": [
    {
     "data": {
      "image/png": "[encoded data removed]",
      "text/plain": [
       "<Figure size 800x600 with 1 Axes>"
      ]
     },
     "metadata": {},
     "output_type": "display_data"
    }
   ],
   "source": [
    "plt.figure(figsize=(8, 6))\n",
    "bins = [3000000, 4000000, 5000000, 6000000, 7000000, 8000000]\n",
    "plt.hist(df_perAana['Price_per_aana'], bins = bins,rwidth=0.8)\n",
    "plt.xlim(3000000, 8000000)\n",
    "plt.title('Histogram of Price per Aana')\n",
    "plt.xlabel('Price per Aana')\n",
    "plt.ylabel('Frequency')\n",
    "plt.show()"
   ]
  },
  {
   "cell_type": "code",
   "execution_count": 103,
   "metadata": {
    "executionInfo": {
     "elapsed": 663,
     "status": "ok",
     "timestamp": 1727938925982,
     "user": {
      "displayName": "biplov belbase",
      "userId": "02095037767289247533"
     },
     "user_tz": -345
    },
    "id": "PX821vNSLeYG"
   },
   "outputs": [],
   "source": [
    "df4.to_csv('CleanedData2.csv', index=False)"
   ]
  },
  {
   "cell_type": "code",
   "execution_count": 104,
   "metadata": {
    "colab": {
     "base_uri": "https://localhost:8080/"
    },
    "executionInfo": {
     "elapsed": 429,
     "status": "ok",
     "timestamp": 1727938936723,
     "user": {
      "displayName": "biplov belbase",
      "userId": "02095037767289247533"
     },
     "user_tz": -345
    },
    "id": "8LHctXyUQMTV",
    "outputId": "c0c7e683-8be4-4754-db8a-cb3a17b163fa"
   },
   "outputs": [
    {
     "data": {
      "text/plain": [
       "(809, 7)"
      ]
     },
     "execution_count": 104,
     "metadata": {},
     "output_type": "execute_result"
    }
   ],
   "source": [
    "df4.shape"
   ]
  },
  {
   "cell_type": "code",
   "execution_count": 105,
   "metadata": {
    "executionInfo": {
     "elapsed": 467,
     "status": "ok",
     "timestamp": 1727942599177,
     "user": {
      "displayName": "biplov belbase",
      "userId": "02095037767289247533"
     },
     "user_tz": -345
    },
    "id": "NgR1kb2EQReS"
   },
   "outputs": [],
   "source": [
    "df4 = pd.read_csv('CleanedData2.csv')"
   ]
  },
  {
   "cell_type": "code",
   "execution_count": 106,
   "metadata": {
    "executionInfo": {
     "elapsed": 3,
     "status": "ok",
     "timestamp": 1727942600983,
     "user": {
      "displayName": "biplov belbase",
      "userId": "02095037767289247533"
     },
     "user_tz": -345
    },
    "id": "EFjllYLs3Nxg"
   },
   "outputs": [],
   "source": [
    "df4 = df4[~((df4['Area'] < 2.0))]"
   ]
  },
  {
   "cell_type": "code",
   "execution_count": 107,
   "metadata": {
    "executionInfo": {
     "elapsed": 3,
     "status": "ok",
     "timestamp": 1727942602423,
     "user": {
      "displayName": "biplov belbase",
      "userId": "02095037767289247533"
     },
     "user_tz": -345
    },
    "id": "4GIOHl8LY1y2"
   },
   "outputs": [],
   "source": [
    "df4.columns = df4.columns.str.replace(' ', '_')"
   ]
  },
  {
   "cell_type": "code",
   "execution_count": 108,
   "metadata": {
    "colab": {
     "base_uri": "https://localhost:8080/"
    },
    "executionInfo": {
     "elapsed": 5,
     "status": "ok",
     "timestamp": 1727942603841,
     "user": {
      "displayName": "biplov belbase",
      "userId": "02095037767289247533"
     },
     "user_tz": -345
    },
    "id": "qX3zITWz8OT3",
    "outputId": "7e75c231-7c78-46d1-b0d2-5fed961ffc17"
   },
   "outputs": [
    {
     "data": {
      "text/plain": [
       "Index(['City', 'Price', 'Floors', 'Face', 'Area', 'Road_Width', 'Road_Type'], dtype='object')"
      ]
     },
     "execution_count": 108,
     "metadata": {},
     "output_type": "execute_result"
    }
   ],
   "source": [
    "df4.columns"
   ]
  },
  {
   "cell_type": "code",
   "execution_count": 109,
   "metadata": {
    "colab": {
     "base_uri": "https://localhost:8080/",
     "height": 206
    },
    "executionInfo": {
     "elapsed": 5,
     "status": "ok",
     "timestamp": 1727942496066,
     "user": {
      "displayName": "biplov belbase",
      "userId": "02095037767289247533"
     },
     "user_tz": -345
    },
    "id": "U3fWTPwxJOs0",
    "outputId": "08c10040-3375-418e-cde8-79e629d1dd22"
   },
   "outputs": [
    {
     "data": {
      "text/html": [
       "<div>\n",
       "<style scoped>\n",
       "    .dataframe tbody tr th:only-of-type {\n",
       "        vertical-align: middle;\n",
       "    }\n",
       "\n",
       "    .dataframe tbody tr th {\n",
       "        vertical-align: top;\n",
       "    }\n",
       "\n",
       "    .dataframe thead th {\n",
       "        text-align: right;\n",
       "    }\n",
       "</style>\n",
       "<table border=\"1\" class=\"dataframe\">\n",
       "  <thead>\n",
       "    <tr style=\"text-align: right;\">\n",
       "      <th></th>\n",
       "      <th>City</th>\n",
       "      <th>Price</th>\n",
       "      <th>Floors</th>\n",
       "      <th>Face</th>\n",
       "      <th>Area</th>\n",
       "      <th>Road_Width</th>\n",
       "      <th>Road_Type</th>\n",
       "    </tr>\n",
       "  </thead>\n",
       "  <tbody>\n",
       "    <tr>\n",
       "      <th>0</th>\n",
       "      <td>Kathmandu</td>\n",
       "      <td>90000000</td>\n",
       "      <td>2.0</td>\n",
       "      <td>West</td>\n",
       "      <td>16.0000</td>\n",
       "      <td>20.0</td>\n",
       "      <td>Blacktopped</td>\n",
       "    </tr>\n",
       "    <tr>\n",
       "      <th>1</th>\n",
       "      <td>Kathmandu</td>\n",
       "      <td>80000000</td>\n",
       "      <td>2.0</td>\n",
       "      <td>East</td>\n",
       "      <td>21.0000</td>\n",
       "      <td>20.0</td>\n",
       "      <td>Blacktopped</td>\n",
       "    </tr>\n",
       "    <tr>\n",
       "      <th>2</th>\n",
       "      <td>Kathmandu</td>\n",
       "      <td>70000000</td>\n",
       "      <td>2.0</td>\n",
       "      <td>East</td>\n",
       "      <td>17.0000</td>\n",
       "      <td>20.0</td>\n",
       "      <td>Blacktopped</td>\n",
       "    </tr>\n",
       "    <tr>\n",
       "      <th>3</th>\n",
       "      <td>Kathmandu</td>\n",
       "      <td>100000000</td>\n",
       "      <td>2.0</td>\n",
       "      <td>East</td>\n",
       "      <td>19.5000</td>\n",
       "      <td>20.0</td>\n",
       "      <td>Blacktopped</td>\n",
       "    </tr>\n",
       "    <tr>\n",
       "      <th>4</th>\n",
       "      <td>Kathmandu</td>\n",
       "      <td>100000000</td>\n",
       "      <td>3.0</td>\n",
       "      <td>East</td>\n",
       "      <td>12.8125</td>\n",
       "      <td>13.0</td>\n",
       "      <td>Blacktopped</td>\n",
       "    </tr>\n",
       "  </tbody>\n",
       "</table>\n",
       "</div>"
      ],
      "text/plain": [
       "        City      Price  Floors  Face     Area  Road_Width    Road_Type\n",
       "0  Kathmandu   90000000     2.0  West  16.0000        20.0  Blacktopped\n",
       "1  Kathmandu   80000000     2.0  East  21.0000        20.0  Blacktopped\n",
       "2  Kathmandu   70000000     2.0  East  17.0000        20.0  Blacktopped\n",
       "3  Kathmandu  100000000     2.0  East  19.5000        20.0  Blacktopped\n",
       "4  Kathmandu  100000000     3.0  East  12.8125        13.0  Blacktopped"
      ]
     },
     "execution_count": 109,
     "metadata": {},
     "output_type": "execute_result"
    }
   ],
   "source": [
    "df4.head(5)"
   ]
  },
  {
   "cell_type": "code",
   "execution_count": 110,
   "metadata": {
    "colab": {
     "base_uri": "https://localhost:8080/",
     "height": 555
    },
    "executionInfo": {
     "elapsed": 561,
     "status": "ok",
     "timestamp": 1727942381243,
     "user": {
      "displayName": "biplov belbase",
      "userId": "02095037767289247533"
     },
     "user_tz": -345
    },
    "id": "rHaC1VIYJcKj",
    "outputId": "fb8ac455-1558-4f07-a9dc-05abbe1b1016"
   },
   "outputs": [
    {
     "data": {
      "text/plain": [
       "Text(0, 0.5, 'Average Price')"
      ]
     },
     "execution_count": 110,
     "metadata": {},
     "output_type": "execute_result"
    },
    {
     "data": {
      "image/png": "[encoded data removed]",
      "text/plain": [
       "<Figure size 640x480 with 1 Axes>"
      ]
     },
     "metadata": {},
     "output_type": "display_data"
    }
   ],
   "source": [
    "avg_price_per_city = df4.groupby('City')['Price'].mean()\n",
    "avg_price_per_city.plot(kind='bar', color=['skyblue', 'lightgreen', 'salmon'])\n",
    "plt.title('Average Price per City')\n",
    "plt.xlabel('City')\n",
    "plt.ylabel('Average Price')"
   ]
  },
  {
   "cell_type": "code",
   "execution_count": 111,
   "metadata": {
    "colab": {
     "base_uri": "https://localhost:8080/",
     "height": 553
    },
    "executionInfo": {
     "elapsed": 711,
     "status": "ok",
     "timestamp": 1727942407153,
     "user": {
      "displayName": "biplov belbase",
      "userId": "02095037767289247533"
     },
     "user_tz": -345
    },
    "id": "0pQX_EWeJ_iL",
    "outputId": "fa3f7aed-2e49-4ce9-cdc0-da04421bfb4f"
   },
   "outputs": [
    {
     "data": {
      "text/plain": [
       "Text(0, 0.5, 'Average Price')"
      ]
     },
     "execution_count": 111,
     "metadata": {},
     "output_type": "execute_result"
    },
    {
     "data": {
      "image/png": "[encoded data removed]",
      "text/plain": [
       "<Figure size 640x480 with 1 Axes>"
      ]
     },
     "metadata": {},
     "output_type": "display_data"
    }
   ],
   "source": [
    "avg_price_per_city = df4.groupby('Face')['Price'].mean()\n",
    "avg_price_per_city.plot(kind='bar', color=['skyblue', 'lightgreen', 'salmon'])\n",
    "plt.title('Average Price per City')\n",
    "plt.xlabel('Face')\n",
    "plt.ylabel('Average Price')"
   ]
  },
  {
   "cell_type": "code",
   "execution_count": 112,
   "metadata": {
    "colab": {
     "base_uri": "https://localhost:8080/",
     "height": 572
    },
    "executionInfo": {
     "elapsed": 565,
     "status": "ok",
     "timestamp": 1727942427371,
     "user": {
      "displayName": "biplov belbase",
      "userId": "02095037767289247533"
     },
     "user_tz": -345
    },
    "id": "o5ibiLmWKIad",
    "outputId": "662c3737-1af6-422f-a3b6-7b4d65b4a4df"
   },
   "outputs": [
    {
     "data": {
      "text/plain": [
       "Text(0, 0.5, 'Average Price')"
      ]
     },
     "execution_count": 112,
     "metadata": {},
     "output_type": "execute_result"
    },
    {
     "data": {
      "image/png": "[encoded data removed]",
      "text/plain": [
       "<Figure size 640x480 with 1 Axes>"
      ]
     },
     "metadata": {},
     "output_type": "display_data"
    }
   ],
   "source": [
    "avg_price_per_city = df4.groupby('Road_Type')['Price'].mean()\n",
    "avg_price_per_city.plot(kind='bar', color=['skyblue', 'lightgreen', 'salmon'])\n",
    "plt.title('Average Price per City')\n",
    "plt.xlabel('Road Type')\n",
    "plt.ylabel('Average Price')"
   ]
  },
  {
   "cell_type": "code",
   "execution_count": 113,
   "metadata": {
    "colab": {
     "base_uri": "https://localhost:8080/"
    },
    "executionInfo": {
     "elapsed": 493,
     "status": "ok",
     "timestamp": 1727942433809,
     "user": {
      "displayName": "biplov belbase",
      "userId": "02095037767289247533"
     },
     "user_tz": -345
    },
    "id": "59gsrmgrOZgZ",
    "outputId": "99ffadfc-dbe0-43d1-ab93-9730384e73ba"
   },
   "outputs": [
    {
     "name": "stdout",
     "output_type": "stream",
     "text": [
      "City           object\n",
      "Price           int64\n",
      "Floors        float64\n",
      "Face           object\n",
      "Area          float64\n",
      "Road_Width    float64\n",
      "Road_Type      object\n",
      "dtype: object\n"
     ]
    }
   ],
   "source": [
    "print(df4.dtypes)"
   ]
  },
  {
   "cell_type": "code",
   "execution_count": 114,
   "metadata": {
    "executionInfo": {
     "elapsed": 490,
     "status": "ok",
     "timestamp": 1727942612211,
     "user": {
      "displayName": "biplov belbase",
      "userId": "02095037767289247533"
     },
     "user_tz": -345
    },
    "id": "Tws5z8jOOFl1"
   },
   "outputs": [],
   "source": [
    "df4.drop('Face',axis=1,inplace=True)"
   ]
  },
  {
   "cell_type": "code",
   "execution_count": 115,
   "metadata": {
    "executionInfo": {
     "elapsed": 456,
     "status": "ok",
     "timestamp": 1727942712644,
     "user": {
      "displayName": "biplov belbase",
      "userId": "02095037767289247533"
     },
     "user_tz": -345
    },
    "id": "MffCxXTPYOhc"
   },
   "outputs": [],
   "source": [
    "# Apply one-hot encoding to only 'City' and 'Road Type'\n",
    "encoded_columns = pd.get_dummies(df4[['City', 'Road_Type']], dtype=int)\n",
    "\n",
    "# Drop the original 'City' and 'Road Type' columns\n",
    "df4 = df4.drop(['City', 'Road_Type'], axis=1)\n",
    "\n",
    "# Concatenate the one-hot encoded columns to the DataFrame\n",
    "df4 = pd.concat([df4, encoded_columns], axis=1)"
   ]
  },
  {
   "cell_type": "code",
   "execution_count": 116,
   "metadata": {
    "colab": {
     "base_uri": "https://localhost:8080/",
     "height": 243
    },
    "executionInfo": {
     "elapsed": 465,
     "status": "ok",
     "timestamp": 1727942716467,
     "user": {
      "displayName": "biplov belbase",
      "userId": "02095037767289247533"
     },
     "user_tz": -345
    },
    "id": "w6SxIVw1PQE8",
    "outputId": "c262425c-b368-42e8-e618-0f33eee32085"
   },
   "outputs": [
    {
     "data": {
      "text/html": [
       "<div>\n",
       "<style scoped>\n",
       "    .dataframe tbody tr th:only-of-type {\n",
       "        vertical-align: middle;\n",
       "    }\n",
       "\n",
       "    .dataframe tbody tr th {\n",
       "        vertical-align: top;\n",
       "    }\n",
       "\n",
       "    .dataframe thead th {\n",
       "        text-align: right;\n",
       "    }\n",
       "</style>\n",
       "<table border=\"1\" class=\"dataframe\">\n",
       "  <thead>\n",
       "    <tr style=\"text-align: right;\">\n",
       "      <th></th>\n",
       "      <th>Price</th>\n",
       "      <th>Floors</th>\n",
       "      <th>Area</th>\n",
       "      <th>Road_Width</th>\n",
       "      <th>City_Bhaktapur</th>\n",
       "      <th>City_Kathmandu</th>\n",
       "      <th>City_Lalitpur</th>\n",
       "      <th>Road_Type_Blacktopped</th>\n",
       "      <th>Road_Type_Gravelled</th>\n",
       "      <th>Road_Type_Soil Stabilized</th>\n",
       "    </tr>\n",
       "  </thead>\n",
       "  <tbody>\n",
       "    <tr>\n",
       "      <th>0</th>\n",
       "      <td>90000000</td>\n",
       "      <td>2.0</td>\n",
       "      <td>16.0000</td>\n",
       "      <td>20.0</td>\n",
       "      <td>0</td>\n",
       "      <td>1</td>\n",
       "      <td>0</td>\n",
       "      <td>1</td>\n",
       "      <td>0</td>\n",
       "      <td>0</td>\n",
       "    </tr>\n",
       "    <tr>\n",
       "      <th>1</th>\n",
       "      <td>80000000</td>\n",
       "      <td>2.0</td>\n",
       "      <td>21.0000</td>\n",
       "      <td>20.0</td>\n",
       "      <td>0</td>\n",
       "      <td>1</td>\n",
       "      <td>0</td>\n",
       "      <td>1</td>\n",
       "      <td>0</td>\n",
       "      <td>0</td>\n",
       "    </tr>\n",
       "    <tr>\n",
       "      <th>2</th>\n",
       "      <td>70000000</td>\n",
       "      <td>2.0</td>\n",
       "      <td>17.0000</td>\n",
       "      <td>20.0</td>\n",
       "      <td>0</td>\n",
       "      <td>1</td>\n",
       "      <td>0</td>\n",
       "      <td>1</td>\n",
       "      <td>0</td>\n",
       "      <td>0</td>\n",
       "    </tr>\n",
       "    <tr>\n",
       "      <th>3</th>\n",
       "      <td>100000000</td>\n",
       "      <td>2.0</td>\n",
       "      <td>19.5000</td>\n",
       "      <td>20.0</td>\n",
       "      <td>0</td>\n",
       "      <td>1</td>\n",
       "      <td>0</td>\n",
       "      <td>1</td>\n",
       "      <td>0</td>\n",
       "      <td>0</td>\n",
       "    </tr>\n",
       "    <tr>\n",
       "      <th>4</th>\n",
       "      <td>100000000</td>\n",
       "      <td>3.0</td>\n",
       "      <td>12.8125</td>\n",
       "      <td>13.0</td>\n",
       "      <td>0</td>\n",
       "      <td>1</td>\n",
       "      <td>0</td>\n",
       "      <td>1</td>\n",
       "      <td>0</td>\n",
       "      <td>0</td>\n",
       "    </tr>\n",
       "  </tbody>\n",
       "</table>\n",
       "</div>"
      ],
      "text/plain": [
       "       Price  Floors     Area  Road_Width  City_Bhaktapur  City_Kathmandu  \\\n",
       "0   90000000     2.0  16.0000        20.0               0               1   \n",
       "1   80000000     2.0  21.0000        20.0               0               1   \n",
       "2   70000000     2.0  17.0000        20.0               0               1   \n",
       "3  100000000     2.0  19.5000        20.0               0               1   \n",
       "4  100000000     3.0  12.8125        13.0               0               1   \n",
       "\n",
       "   City_Lalitpur  Road_Type_Blacktopped  Road_Type_Gravelled  \\\n",
       "0              0                      1                    0   \n",
       "1              0                      1                    0   \n",
       "2              0                      1                    0   \n",
       "3              0                      1                    0   \n",
       "4              0                      1                    0   \n",
       "\n",
       "   Road_Type_Soil Stabilized  \n",
       "0                          0  \n",
       "1                          0  \n",
       "2                          0  \n",
       "3                          0  \n",
       "4                          0  "
      ]
     },
     "execution_count": 116,
     "metadata": {},
     "output_type": "execute_result"
    }
   ],
   "source": [
    "df4.head()"
   ]
  },
  {
   "cell_type": "code",
   "execution_count": 117,
   "metadata": {
    "colab": {
     "base_uri": "https://localhost:8080/"
    },
    "executionInfo": {
     "elapsed": 444,
     "status": "ok",
     "timestamp": 1727942739784,
     "user": {
      "displayName": "biplov belbase",
      "userId": "02095037767289247533"
     },
     "user_tz": -345
    },
    "id": "ByIcWQ5hPSQ-",
    "outputId": "4406c3d4-bab5-4c2f-aff3-cf5ceafeeedf"
   },
   "outputs": [
    {
     "name": "stdout",
     "output_type": "stream",
     "text": [
      "Price                          int64\n",
      "Floors                       float64\n",
      "Area                         float64\n",
      "Road_Width                   float64\n",
      "City_Bhaktapur                 int32\n",
      "City_Kathmandu                 int32\n",
      "City_Lalitpur                  int32\n",
      "Road_Type_Blacktopped          int32\n",
      "Road_Type_Gravelled            int32\n",
      "Road_Type_Soil Stabilized      int32\n",
      "dtype: object\n"
     ]
    }
   ],
   "source": [
    "print(df4.dtypes)"
   ]
  },
  {
   "cell_type": "code",
   "execution_count": 118,
   "metadata": {
    "executionInfo": {
     "elapsed": 468,
     "status": "ok",
     "timestamp": 1727942746079,
     "user": {
      "displayName": "biplov belbase",
      "userId": "02095037767289247533"
     },
     "user_tz": -345
    },
    "id": "jI2sllAsPWTO"
   },
   "outputs": [],
   "source": [
    "from sklearn.preprocessing import StandardScaler\n",
    "scaler = StandardScaler()\n",
    "df4['Price'] = scaler.fit_transform(df4[['Price']])"
   ]
  },
  {
   "cell_type": "code",
   "execution_count": 119,
   "metadata": {
    "colab": {
     "base_uri": "https://localhost:8080/",
     "height": 243
    },
    "executionInfo": {
     "elapsed": 8,
     "status": "ok",
     "timestamp": 1727942747716,
     "user": {
      "displayName": "biplov belbase",
      "userId": "02095037767289247533"
     },
     "user_tz": -345
    },
    "id": "21JRy0n2TufO",
    "outputId": "3af47206-347f-49ef-9448-8c08d2cb592a"
   },
   "outputs": [
    {
     "data": {
      "text/html": [
       "<div>\n",
       "<style scoped>\n",
       "    .dataframe tbody tr th:only-of-type {\n",
       "        vertical-align: middle;\n",
       "    }\n",
       "\n",
       "    .dataframe tbody tr th {\n",
       "        vertical-align: top;\n",
       "    }\n",
       "\n",
       "    .dataframe thead th {\n",
       "        text-align: right;\n",
       "    }\n",
       "</style>\n",
       "<table border=\"1\" class=\"dataframe\">\n",
       "  <thead>\n",
       "    <tr style=\"text-align: right;\">\n",
       "      <th></th>\n",
       "      <th>Price</th>\n",
       "      <th>Floors</th>\n",
       "      <th>Area</th>\n",
       "      <th>Road_Width</th>\n",
       "      <th>City_Bhaktapur</th>\n",
       "      <th>City_Kathmandu</th>\n",
       "      <th>City_Lalitpur</th>\n",
       "      <th>Road_Type_Blacktopped</th>\n",
       "      <th>Road_Type_Gravelled</th>\n",
       "      <th>Road_Type_Soil Stabilized</th>\n",
       "    </tr>\n",
       "  </thead>\n",
       "  <tbody>\n",
       "    <tr>\n",
       "      <th>0</th>\n",
       "      <td>3.132908</td>\n",
       "      <td>2.0</td>\n",
       "      <td>16.0000</td>\n",
       "      <td>20.0</td>\n",
       "      <td>0</td>\n",
       "      <td>1</td>\n",
       "      <td>0</td>\n",
       "      <td>1</td>\n",
       "      <td>0</td>\n",
       "      <td>0</td>\n",
       "    </tr>\n",
       "    <tr>\n",
       "      <th>1</th>\n",
       "      <td>2.576956</td>\n",
       "      <td>2.0</td>\n",
       "      <td>21.0000</td>\n",
       "      <td>20.0</td>\n",
       "      <td>0</td>\n",
       "      <td>1</td>\n",
       "      <td>0</td>\n",
       "      <td>1</td>\n",
       "      <td>0</td>\n",
       "      <td>0</td>\n",
       "    </tr>\n",
       "    <tr>\n",
       "      <th>2</th>\n",
       "      <td>2.021003</td>\n",
       "      <td>2.0</td>\n",
       "      <td>17.0000</td>\n",
       "      <td>20.0</td>\n",
       "      <td>0</td>\n",
       "      <td>1</td>\n",
       "      <td>0</td>\n",
       "      <td>1</td>\n",
       "      <td>0</td>\n",
       "      <td>0</td>\n",
       "    </tr>\n",
       "    <tr>\n",
       "      <th>3</th>\n",
       "      <td>3.688861</td>\n",
       "      <td>2.0</td>\n",
       "      <td>19.5000</td>\n",
       "      <td>20.0</td>\n",
       "      <td>0</td>\n",
       "      <td>1</td>\n",
       "      <td>0</td>\n",
       "      <td>1</td>\n",
       "      <td>0</td>\n",
       "      <td>0</td>\n",
       "    </tr>\n",
       "    <tr>\n",
       "      <th>4</th>\n",
       "      <td>3.688861</td>\n",
       "      <td>3.0</td>\n",
       "      <td>12.8125</td>\n",
       "      <td>13.0</td>\n",
       "      <td>0</td>\n",
       "      <td>1</td>\n",
       "      <td>0</td>\n",
       "      <td>1</td>\n",
       "      <td>0</td>\n",
       "      <td>0</td>\n",
       "    </tr>\n",
       "  </tbody>\n",
       "</table>\n",
       "</div>"
      ],
      "text/plain": [
       "      Price  Floors     Area  Road_Width  City_Bhaktapur  City_Kathmandu  \\\n",
       "0  3.132908     2.0  16.0000        20.0               0               1   \n",
       "1  2.576956     2.0  21.0000        20.0               0               1   \n",
       "2  2.021003     2.0  17.0000        20.0               0               1   \n",
       "3  3.688861     2.0  19.5000        20.0               0               1   \n",
       "4  3.688861     3.0  12.8125        13.0               0               1   \n",
       "\n",
       "   City_Lalitpur  Road_Type_Blacktopped  Road_Type_Gravelled  \\\n",
       "0              0                      1                    0   \n",
       "1              0                      1                    0   \n",
       "2              0                      1                    0   \n",
       "3              0                      1                    0   \n",
       "4              0                      1                    0   \n",
       "\n",
       "   Road_Type_Soil Stabilized  \n",
       "0                          0  \n",
       "1                          0  \n",
       "2                          0  \n",
       "3                          0  \n",
       "4                          0  "
      ]
     },
     "execution_count": 119,
     "metadata": {},
     "output_type": "execute_result"
    }
   ],
   "source": [
    "df4.head()"
   ]
  },
  {
   "cell_type": "code",
   "execution_count": 120,
   "metadata": {
    "executionInfo": {
     "elapsed": 483,
     "status": "ok",
     "timestamp": 1727942776395,
     "user": {
      "displayName": "biplov belbase",
      "userId": "02095037767289247533"
     },
     "user_tz": -345
    },
    "id": "vVKDOJbZTcbI"
   },
   "outputs": [],
   "source": [
    "df4.to_csv('cleanedData3.csv', index=False)"
   ]
  }
 ],
 "metadata": {
  "accelerator": "GPU",
  "colab": {
   "authorship_tag": "ABX9TyPrT5MyUBj/kiBrrfQoJnVm",
   "gpuType": "T4",
   "mount_file_id": "1YhdOncQxSdWUB32S2SGylXuevu-6g9q2",
   "provenance": []
  },
  "kernelspec": {
   "display_name": "Python 3 (ipykernel)",
   "language": "python",
   "name": "python3"
  },
  "language_info": {
   "codemirror_mode": {
    "name": "ipython",
    "version": 3
   },
   "file_extension": ".py",
   "mimetype": "text/x-python",
   "name": "python",
   "nbconvert_exporter": "python",
   "pygments_lexer": "ipython3",
   "version": "3.12.7"
  }
 },
 "nbformat": 4,
 "nbformat_minor": 4
}
